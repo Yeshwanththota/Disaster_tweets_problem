{
 "cells": [
  {
   "cell_type": "code",
   "execution_count": 1,
   "id": "1a263bff",
   "metadata": {
    "_cell_guid": "b1076dfc-b9ad-4769-8c92-a6c4dae69d19",
    "_uuid": "8f2839f25d086af736a60e9eeb907d3b93b6e0e5",
    "execution": {
     "iopub.execute_input": "2024-04-15T06:26:39.851055Z",
     "iopub.status.busy": "2024-04-15T06:26:39.850620Z",
     "iopub.status.idle": "2024-04-15T06:26:40.870958Z",
     "shell.execute_reply": "2024-04-15T06:26:40.868889Z"
    },
    "papermill": {
     "duration": 1.028071,
     "end_time": "2024-04-15T06:26:40.874017",
     "exception": false,
     "start_time": "2024-04-15T06:26:39.845946",
     "status": "completed"
    },
    "tags": []
   },
   "outputs": [
    {
     "name": "stdout",
     "output_type": "stream",
     "text": [
      "kaggle/sample_submission.csv\n",
      "kaggle/test.csv\n",
      "kaggle/train.csv\n"
     ]
    }
   ],
   "source": [
    "# This Python 3 environment comes with many helpful analytics libraries installed\n",
    "# It is defined by the kaggle/python Docker image: https://github.com/kaggle/docker-python\n",
    "# For example, here's several helpful packages to load\n",
    "\n",
    "import numpy as np # linear algebra\n",
    "import pandas as pd # data processing, CSV file I/O (e.g. pd.read_csv)\n",
    "\n",
    "# Input data files are available in the read-only \"../input/\" directory\n",
    "# For example, running this (by clicking run or pressing Shift+Enter) will list all files under the input directory\n",
    "\n",
    "import os\n",
    "for dirname, _, filenames in os.walk('kaggle/'):\n",
    "    for filename in filenames:\n",
    "        print(os.path.join(dirname, filename))\n",
    "# You can write up to 20GB to the current directory (/kaggle/working/) that gets preserved as output when you create a version using \"Save & Run All\" \n",
    "# You can also write temporary files to /kaggle/temp/, but they won't be saved outside of the current session"
   ]
  },
  {
   "cell_type": "code",
   "execution_count": 2,
   "id": "c084ea1d",
   "metadata": {
    "execution": {
     "iopub.execute_input": "2024-04-15T06:26:40.882202Z",
     "iopub.status.busy": "2024-04-15T06:26:40.881626Z",
     "iopub.status.idle": "2024-04-15T06:26:43.093670Z",
     "shell.execute_reply": "2024-04-15T06:26:43.092713Z"
    },
    "papermill": {
     "duration": 2.219359,
     "end_time": "2024-04-15T06:26:43.096140",
     "exception": false,
     "start_time": "2024-04-15T06:26:40.876781",
     "status": "completed"
    },
    "tags": []
   },
   "outputs": [
    {
     "name": "stdout",
     "output_type": "stream",
     "text": [
      "Validation F1 Score: 0.7541528239202658\n"
     ]
    }
   ],
   "source": [
    "from sklearn.feature_extraction.text import TfidfVectorizer\n",
    "from sklearn.linear_model import LogisticRegression\n",
    "from sklearn.model_selection import train_test_split\n",
    "from sklearn.metrics import f1_score\n",
    "\n",
    "# Load the data\n",
    "train_df = pd.read_csv(\"kaggle/train.csv\")\n",
    "test_df = pd.read_csv(\"kaggle/test.csv\")\n",
    "\n",
    "# Separate features and target variable\n",
    "X_train = train_df[\"text\"]\n",
    "y_train = train_df[\"target\"]\n",
    "X_test = test_df[\"text\"]\n",
    "\n",
    "# Initialize TF-IDF vectorizer\n",
    "tfidf_vectorizer = TfidfVectorizer(max_features=5000)\n",
    "\n",
    "# Fit and transform on training data\n",
    "X_train_tfidf = tfidf_vectorizer.fit_transform(X_train)\n",
    "# Transform test data\n",
    "X_test_tfidf = tfidf_vectorizer.transform(X_test)\n",
    "\n",
    "# Initialize logistic regression classifier\n",
    "classifier = LogisticRegression()\n",
    "\n",
    "# Split the training data into training and validation sets\n",
    "X_train_split, X_val_split, y_train_split, y_val_split = train_test_split(X_train_tfidf, y_train, test_size=0.2, random_state=42)\n",
    "\n",
    "# Train the classifier\n",
    "classifier.fit(X_train_split, y_train_split)\n",
    "# Predict probabilities on the validation set\n",
    "val_probabilities = classifier.predict_proba(X_val_split)[:, 1]\n",
    "\n",
    "# Convert probabilities to binary predictions using a threshold\n",
    "threshold = 0.5\n",
    "val_predictions = (val_probabilities > threshold).astype(int)\n",
    "\n",
    "# Calculate F1 score on the validation set\n",
    "f1 = f1_score(y_val_split, val_predictions)\n",
    "print(\"Validation F1 Score:\", f1)\n",
    "\n",
    "# Make predictions on the test set\n",
    "test_probabilities = classifier.predict_proba(X_test_tfidf)[:, 1]\n",
    "test_predictions = (test_probabilities > threshold).astype(int)"
   ]
  },
  {
   "cell_type": "code",
   "execution_count": 3,
   "id": "c7f8d5d9",
   "metadata": {},
   "outputs": [
    {
     "data": {
      "text/plain": [
       "['classifier.pkl']"
      ]
     },
     "execution_count": 3,
     "metadata": {},
     "output_type": "execute_result"
    }
   ],
   "source": [
    "# Save TF-IDF vectorizer and trained model\n",
    "import joblib\n",
    "joblib.dump(tfidf_vectorizer, 'tfidf_vectorizer.pkl')\n",
    "joblib.dump(classifier, 'classifier.pkl')"
   ]
  },
  {
   "cell_type": "code",
   "execution_count": 4,
   "id": "a6d435ec",
   "metadata": {},
   "outputs": [],
   "source": [
    "# load the model and vectorizer\n",
    "tfidf_vectorizer = joblib.load('tfidf_vectorizer.pkl')\n",
    "classifier = joblib.load('classifier.pkl')\n"
   ]
  },
  {
   "cell_type": "code",
   "execution_count": 10,
   "id": "2d1daaf4",
   "metadata": {},
   "outputs": [
    {
     "name": "stdout",
     "output_type": "stream",
     "text": [
      "[1 1 1 1 1 1 0 0 0 1]\n"
     ]
    }
   ],
   "source": [
    "# make the predictions using the classifier with user data\n",
    "user_data = [\n",
    "    \"Just saw a huge fire downtown! #disaster\",\n",
    "    \"There's been a major earthquake in California.\",\n",
    "    \"Breaking News: Hurricane Florence is heading towards the East Coast.\",\n",
    "    \"A tsunami warning has been issued for the Pacific coast.\",\n",
    "    \"The building collapsed in the city center. It's a disaster!\",\n",
    "    \"There's a wildfire spreading rapidly near the residential area.\",\n",
    "    \"New shoes got me shook, feels like an earthquake!\",\n",
    "    \"I'm so hungry, it's like a tornado hit my kitchen!\",\n",
    "    \"My grades are a disaster right now.\",\n",
    "    \"This traffic jam is a total disaster.\",\n",
    "]\n",
    "\n",
    "\n",
    "\n",
    "user_data_tfidf = tfidf_vectorizer.transform(user_data)\n",
    "user_predictions = classifier.predict(user_data_tfidf)\n",
    "print(user_predictions)\n"
   ]
  },
  {
   "cell_type": "code",
   "execution_count": null,
   "id": "66c5bceb",
   "metadata": {},
   "outputs": [],
   "source": []
  }
 ],
 "metadata": {
  "kaggle": {
   "accelerator": "none",
   "dataSources": [
    {
     "databundleVersionId": 869809,
     "sourceId": 17777,
     "sourceType": "competition"
    }
   ],
   "dockerImageVersionId": 30684,
   "isGpuEnabled": false,
   "isInternetEnabled": true,
   "language": "python",
   "sourceType": "notebook"
  },
  "kernelspec": {
   "display_name": "Python 3",
   "language": "python",
   "name": "python3"
  },
  "language_info": {
   "codemirror_mode": {
    "name": "ipython",
    "version": 3
   },
   "file_extension": ".py",
   "mimetype": "text/x-python",
   "name": "python",
   "nbconvert_exporter": "python",
   "pygments_lexer": "ipython3",
   "version": "3.12.3"
  },
  "papermill": {
   "default_parameters": {},
   "duration": 7.2015,
   "end_time": "2024-04-15T06:26:43.722798",
   "environment_variables": {},
   "exception": null,
   "input_path": "__notebook__.ipynb",
   "output_path": "__notebook__.ipynb",
   "parameters": {},
   "start_time": "2024-04-15T06:26:36.521298",
   "version": "2.5.0"
  }
 },
 "nbformat": 4,
 "nbformat_minor": 5
}
