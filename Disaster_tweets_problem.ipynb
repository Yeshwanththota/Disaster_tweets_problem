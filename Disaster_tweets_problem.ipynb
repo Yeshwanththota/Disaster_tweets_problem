{
 "cells": [
  {
   "cell_type": "code",
   "execution_count": 1,
   "id": "32d5289e",
   "metadata": {
    "_cell_guid": "b1076dfc-b9ad-4769-8c92-a6c4dae69d19",
    "_uuid": "8f2839f25d086af736a60e9eeb907d3b93b6e0e5",
    "execution": {
     "iopub.execute_input": "2024-02-13T02:34:24.966686Z",
     "iopub.status.busy": "2024-02-13T02:34:24.966246Z",
     "iopub.status.idle": "2024-02-13T02:34:25.949729Z",
     "shell.execute_reply": "2024-02-13T02:34:25.947249Z"
    },
    "papermill": {
     "duration": 1.013334,
     "end_time": "2024-02-13T02:34:25.953074",
     "exception": false,
     "start_time": "2024-02-13T02:34:24.939740",
     "status": "completed"
    },
    "tags": []
   },
   "outputs": [
    {
     "name": "stdout",
     "output_type": "stream",
     "text": [
      "/kaggle/input/ipba-17-nlp-with-disaster-tweets-2024/sample_submission.csv\n",
      "/kaggle/input/ipba-17-nlp-with-disaster-tweets-2024/train.csv\n",
      "/kaggle/input/ipba-17-nlp-with-disaster-tweets-2024/test.csv\n"
     ]
    }
   ],
   "source": [
    "# This Python 3 environment comes with many helpful analytics libraries installed\n",
    "# It is defined by the kaggle/python Docker image: https://github.com/kaggle/docker-python\n",
    "# For example, here's several helpful packages to load\n",
    "\n",
    "import numpy as np # linear algebra\n",
    "import pandas as pd # data processing, CSV file I/O (e.g. pd.read_csv)\n",
    "\n",
    "# Input data files are available in the read-only \"../input/\" directory\n",
    "# For example, running this (by clicking run or pressing Shift+Enter) will list all files under the input directory\n",
    "\n",
    "import os\n",
    "for dirname, _, filenames in os.walk('/kaggle/input'):\n",
    "    for filename in filenames:\n",
    "        print(os.path.join(dirname, filename))\n",
    "\n",
    "# You can write up to 20GB to the current directory (/kaggle/working/) that gets preserved as output when you create a version using \"Save & Run All\" \n",
    "# You can also write temporary files to /kaggle/temp/, but they won't be saved outside of the current session"
   ]
  },
  {
   "cell_type": "code",
   "execution_count": 2,
   "id": "8a40bd9a",
   "metadata": {
    "execution": {
     "iopub.execute_input": "2024-02-13T02:34:26.001282Z",
     "iopub.status.busy": "2024-02-13T02:34:26.000407Z",
     "iopub.status.idle": "2024-02-13T02:34:28.177430Z",
     "shell.execute_reply": "2024-02-13T02:34:28.176010Z"
    },
    "papermill": {
     "duration": 2.204462,
     "end_time": "2024-02-13T02:34:28.181063",
     "exception": false,
     "start_time": "2024-02-13T02:34:25.976601",
     "status": "completed"
    },
    "tags": []
   },
   "outputs": [],
   "source": [
    "# For Preprocesssing Text Data\n",
    "import nltk\n",
    "from nltk.tokenize import word_tokenize\n",
    "from nltk.corpus import stopwords\n",
    "from nltk.stem import WordNetLemmatizer\n",
    "\n",
    "# Feature Extraction\n",
    "from sklearn.feature_extraction.text import TfidfVectorizer\n",
    "\n",
    "# Import the train test split\n",
    "from sklearn.model_selection import train_test_split\n",
    "\n",
    "# Check Performance\n",
    "from sklearn.metrics import classification_report"
   ]
  },
  {
   "cell_type": "code",
   "execution_count": 3,
   "id": "13758e99",
   "metadata": {
    "execution": {
     "iopub.execute_input": "2024-02-13T02:34:28.229674Z",
     "iopub.status.busy": "2024-02-13T02:34:28.228713Z",
     "iopub.status.idle": "2024-02-13T02:34:28.290763Z",
     "shell.execute_reply": "2024-02-13T02:34:28.289590Z"
    },
    "papermill": {
     "duration": 0.088865,
     "end_time": "2024-02-13T02:34:28.293680",
     "exception": false,
     "start_time": "2024-02-13T02:34:28.204815",
     "status": "completed"
    },
    "tags": []
   },
   "outputs": [],
   "source": [
    "df=pd.read_csv('/kaggle/input/ipba-17-nlp-with-disaster-tweets-2024/train.csv')"
   ]
  },
  {
   "cell_type": "code",
   "execution_count": 4,
   "id": "3adc8bbf",
   "metadata": {
    "execution": {
     "iopub.execute_input": "2024-02-13T02:34:28.340632Z",
     "iopub.status.busy": "2024-02-13T02:34:28.339560Z",
     "iopub.status.idle": "2024-02-13T02:34:28.363690Z",
     "shell.execute_reply": "2024-02-13T02:34:28.362577Z"
    },
    "papermill": {
     "duration": 0.050056,
     "end_time": "2024-02-13T02:34:28.366167",
     "exception": false,
     "start_time": "2024-02-13T02:34:28.316111",
     "status": "completed"
    },
    "tags": []
   },
   "outputs": [
    {
     "data": {
      "text/html": [
       "<div>\n",
       "<style scoped>\n",
       "    .dataframe tbody tr th:only-of-type {\n",
       "        vertical-align: middle;\n",
       "    }\n",
       "\n",
       "    .dataframe tbody tr th {\n",
       "        vertical-align: top;\n",
       "    }\n",
       "\n",
       "    .dataframe thead th {\n",
       "        text-align: right;\n",
       "    }\n",
       "</style>\n",
       "<table border=\"1\" class=\"dataframe\">\n",
       "  <thead>\n",
       "    <tr style=\"text-align: right;\">\n",
       "      <th></th>\n",
       "      <th>id</th>\n",
       "      <th>keyword</th>\n",
       "      <th>location</th>\n",
       "      <th>text</th>\n",
       "      <th>target</th>\n",
       "    </tr>\n",
       "  </thead>\n",
       "  <tbody>\n",
       "    <tr>\n",
       "      <th>0</th>\n",
       "      <td>1</td>\n",
       "      <td>NaN</td>\n",
       "      <td>NaN</td>\n",
       "      <td>Our Deeds are the Reason of this #earthquake M...</td>\n",
       "      <td>1</td>\n",
       "    </tr>\n",
       "    <tr>\n",
       "      <th>1</th>\n",
       "      <td>4</td>\n",
       "      <td>NaN</td>\n",
       "      <td>NaN</td>\n",
       "      <td>Forest fire near La Ronge Sask. Canada</td>\n",
       "      <td>1</td>\n",
       "    </tr>\n",
       "    <tr>\n",
       "      <th>2</th>\n",
       "      <td>5</td>\n",
       "      <td>NaN</td>\n",
       "      <td>NaN</td>\n",
       "      <td>All residents asked to 'shelter in place' are ...</td>\n",
       "      <td>1</td>\n",
       "    </tr>\n",
       "    <tr>\n",
       "      <th>3</th>\n",
       "      <td>6</td>\n",
       "      <td>NaN</td>\n",
       "      <td>NaN</td>\n",
       "      <td>13,000 people receive #wildfires evacuation or...</td>\n",
       "      <td>1</td>\n",
       "    </tr>\n",
       "    <tr>\n",
       "      <th>4</th>\n",
       "      <td>7</td>\n",
       "      <td>NaN</td>\n",
       "      <td>NaN</td>\n",
       "      <td>Just got sent this photo from Ruby #Alaska as ...</td>\n",
       "      <td>1</td>\n",
       "    </tr>\n",
       "    <tr>\n",
       "      <th>5</th>\n",
       "      <td>8</td>\n",
       "      <td>NaN</td>\n",
       "      <td>NaN</td>\n",
       "      <td>#RockyFire Update =&gt; California Hwy. 20 closed...</td>\n",
       "      <td>1</td>\n",
       "    </tr>\n",
       "    <tr>\n",
       "      <th>6</th>\n",
       "      <td>10</td>\n",
       "      <td>NaN</td>\n",
       "      <td>NaN</td>\n",
       "      <td>#flood #disaster Heavy rain causes flash flood...</td>\n",
       "      <td>1</td>\n",
       "    </tr>\n",
       "    <tr>\n",
       "      <th>7</th>\n",
       "      <td>13</td>\n",
       "      <td>NaN</td>\n",
       "      <td>NaN</td>\n",
       "      <td>I'm on top of the hill and I can see a fire in...</td>\n",
       "      <td>1</td>\n",
       "    </tr>\n",
       "    <tr>\n",
       "      <th>8</th>\n",
       "      <td>14</td>\n",
       "      <td>NaN</td>\n",
       "      <td>NaN</td>\n",
       "      <td>There's an emergency evacuation happening now ...</td>\n",
       "      <td>1</td>\n",
       "    </tr>\n",
       "    <tr>\n",
       "      <th>9</th>\n",
       "      <td>15</td>\n",
       "      <td>NaN</td>\n",
       "      <td>NaN</td>\n",
       "      <td>I'm afraid that the tornado is coming to our a...</td>\n",
       "      <td>1</td>\n",
       "    </tr>\n",
       "    <tr>\n",
       "      <th>10</th>\n",
       "      <td>16</td>\n",
       "      <td>NaN</td>\n",
       "      <td>NaN</td>\n",
       "      <td>Three people died from the heat wave so far</td>\n",
       "      <td>1</td>\n",
       "    </tr>\n",
       "    <tr>\n",
       "      <th>11</th>\n",
       "      <td>17</td>\n",
       "      <td>NaN</td>\n",
       "      <td>NaN</td>\n",
       "      <td>Haha South Tampa is getting flooded hah- WAIT ...</td>\n",
       "      <td>1</td>\n",
       "    </tr>\n",
       "    <tr>\n",
       "      <th>12</th>\n",
       "      <td>18</td>\n",
       "      <td>NaN</td>\n",
       "      <td>NaN</td>\n",
       "      <td>#raining #flooding #Florida #TampaBay #Tampa 1...</td>\n",
       "      <td>1</td>\n",
       "    </tr>\n",
       "    <tr>\n",
       "      <th>13</th>\n",
       "      <td>19</td>\n",
       "      <td>NaN</td>\n",
       "      <td>NaN</td>\n",
       "      <td>#Flood in Bago Myanmar #We arrived Bago</td>\n",
       "      <td>1</td>\n",
       "    </tr>\n",
       "    <tr>\n",
       "      <th>14</th>\n",
       "      <td>20</td>\n",
       "      <td>NaN</td>\n",
       "      <td>NaN</td>\n",
       "      <td>Damage to school bus on 80 in multi car crash ...</td>\n",
       "      <td>1</td>\n",
       "    </tr>\n",
       "    <tr>\n",
       "      <th>15</th>\n",
       "      <td>23</td>\n",
       "      <td>NaN</td>\n",
       "      <td>NaN</td>\n",
       "      <td>What's up man?</td>\n",
       "      <td>0</td>\n",
       "    </tr>\n",
       "    <tr>\n",
       "      <th>16</th>\n",
       "      <td>24</td>\n",
       "      <td>NaN</td>\n",
       "      <td>NaN</td>\n",
       "      <td>I love fruits</td>\n",
       "      <td>0</td>\n",
       "    </tr>\n",
       "    <tr>\n",
       "      <th>17</th>\n",
       "      <td>25</td>\n",
       "      <td>NaN</td>\n",
       "      <td>NaN</td>\n",
       "      <td>Summer is lovely</td>\n",
       "      <td>0</td>\n",
       "    </tr>\n",
       "    <tr>\n",
       "      <th>18</th>\n",
       "      <td>26</td>\n",
       "      <td>NaN</td>\n",
       "      <td>NaN</td>\n",
       "      <td>My car is so fast</td>\n",
       "      <td>0</td>\n",
       "    </tr>\n",
       "    <tr>\n",
       "      <th>19</th>\n",
       "      <td>28</td>\n",
       "      <td>NaN</td>\n",
       "      <td>NaN</td>\n",
       "      <td>What a goooooooaaaaaal!!!!!!</td>\n",
       "      <td>0</td>\n",
       "    </tr>\n",
       "  </tbody>\n",
       "</table>\n",
       "</div>"
      ],
      "text/plain": [
       "    id keyword location                                               text  \\\n",
       "0    1     NaN      NaN  Our Deeds are the Reason of this #earthquake M...   \n",
       "1    4     NaN      NaN             Forest fire near La Ronge Sask. Canada   \n",
       "2    5     NaN      NaN  All residents asked to 'shelter in place' are ...   \n",
       "3    6     NaN      NaN  13,000 people receive #wildfires evacuation or...   \n",
       "4    7     NaN      NaN  Just got sent this photo from Ruby #Alaska as ...   \n",
       "5    8     NaN      NaN  #RockyFire Update => California Hwy. 20 closed...   \n",
       "6   10     NaN      NaN  #flood #disaster Heavy rain causes flash flood...   \n",
       "7   13     NaN      NaN  I'm on top of the hill and I can see a fire in...   \n",
       "8   14     NaN      NaN  There's an emergency evacuation happening now ...   \n",
       "9   15     NaN      NaN  I'm afraid that the tornado is coming to our a...   \n",
       "10  16     NaN      NaN        Three people died from the heat wave so far   \n",
       "11  17     NaN      NaN  Haha South Tampa is getting flooded hah- WAIT ...   \n",
       "12  18     NaN      NaN  #raining #flooding #Florida #TampaBay #Tampa 1...   \n",
       "13  19     NaN      NaN            #Flood in Bago Myanmar #We arrived Bago   \n",
       "14  20     NaN      NaN  Damage to school bus on 80 in multi car crash ...   \n",
       "15  23     NaN      NaN                                     What's up man?   \n",
       "16  24     NaN      NaN                                      I love fruits   \n",
       "17  25     NaN      NaN                                   Summer is lovely   \n",
       "18  26     NaN      NaN                                  My car is so fast   \n",
       "19  28     NaN      NaN                       What a goooooooaaaaaal!!!!!!   \n",
       "\n",
       "    target  \n",
       "0        1  \n",
       "1        1  \n",
       "2        1  \n",
       "3        1  \n",
       "4        1  \n",
       "5        1  \n",
       "6        1  \n",
       "7        1  \n",
       "8        1  \n",
       "9        1  \n",
       "10       1  \n",
       "11       1  \n",
       "12       1  \n",
       "13       1  \n",
       "14       1  \n",
       "15       0  \n",
       "16       0  \n",
       "17       0  \n",
       "18       0  \n",
       "19       0  "
      ]
     },
     "execution_count": 4,
     "metadata": {},
     "output_type": "execute_result"
    }
   ],
   "source": [
    "df.head(20)"
   ]
  },
  {
   "cell_type": "markdown",
   "id": "4cfc1933",
   "metadata": {
    "papermill": {
     "duration": 0.021922,
     "end_time": "2024-02-13T02:34:28.410978",
     "exception": false,
     "start_time": "2024-02-13T02:34:28.389056",
     "status": "completed"
    },
    "tags": []
   },
   "source": [
    "# Data Analysis"
   ]
  },
  {
   "cell_type": "code",
   "execution_count": 5,
   "id": "150f853e",
   "metadata": {
    "execution": {
     "iopub.execute_input": "2024-02-13T02:34:28.458928Z",
     "iopub.status.busy": "2024-02-13T02:34:28.458516Z",
     "iopub.status.idle": "2024-02-13T02:34:28.489657Z",
     "shell.execute_reply": "2024-02-13T02:34:28.488811Z"
    },
    "papermill": {
     "duration": 0.057805,
     "end_time": "2024-02-13T02:34:28.492297",
     "exception": false,
     "start_time": "2024-02-13T02:34:28.434492",
     "status": "completed"
    },
    "tags": []
   },
   "outputs": [
    {
     "name": "stdout",
     "output_type": "stream",
     "text": [
      "<class 'pandas.core.frame.DataFrame'>\n",
      "RangeIndex: 7613 entries, 0 to 7612\n",
      "Data columns (total 5 columns):\n",
      " #   Column    Non-Null Count  Dtype \n",
      "---  ------    --------------  ----- \n",
      " 0   id        7613 non-null   int64 \n",
      " 1   keyword   7552 non-null   object\n",
      " 2   location  5080 non-null   object\n",
      " 3   text      7613 non-null   object\n",
      " 4   target    7613 non-null   int64 \n",
      "dtypes: int64(2), object(3)\n",
      "memory usage: 297.5+ KB\n"
     ]
    }
   ],
   "source": [
    "df.info()"
   ]
  },
  {
   "cell_type": "code",
   "execution_count": 6,
   "id": "aeadc317",
   "metadata": {
    "execution": {
     "iopub.execute_input": "2024-02-13T02:34:28.539790Z",
     "iopub.status.busy": "2024-02-13T02:34:28.539059Z",
     "iopub.status.idle": "2024-02-13T02:34:28.761919Z",
     "shell.execute_reply": "2024-02-13T02:34:28.760521Z"
    },
    "papermill": {
     "duration": 0.249689,
     "end_time": "2024-02-13T02:34:28.764618",
     "exception": false,
     "start_time": "2024-02-13T02:34:28.514929",
     "status": "completed"
    },
    "tags": []
   },
   "outputs": [
    {
     "data": {
      "text/plain": [
       "<Axes: xlabel='target'>"
      ]
     },
     "execution_count": 6,
     "metadata": {},
     "output_type": "execute_result"
    },
    {
     "data": {
      "image/png": "[encoded data removed]",
      "text/plain": [
       "<Figure size 640x480 with 1 Axes>"
      ]
     },
     "metadata": {},
     "output_type": "display_data"
    }
   ],
   "source": [
    "df['target'].value_counts().plot.bar()"
   ]
  },
  {
   "cell_type": "code",
   "execution_count": 7,
   "id": "8c4c201e",
   "metadata": {
    "execution": {
     "iopub.execute_input": "2024-02-13T02:34:28.812897Z",
     "iopub.status.busy": "2024-02-13T02:34:28.812437Z",
     "iopub.status.idle": "2024-02-13T02:34:28.819664Z",
     "shell.execute_reply": "2024-02-13T02:34:28.818329Z"
    },
    "papermill": {
     "duration": 0.034509,
     "end_time": "2024-02-13T02:34:28.822044",
     "exception": false,
     "start_time": "2024-02-13T02:34:28.787535",
     "status": "completed"
    },
    "tags": []
   },
   "outputs": [
    {
     "data": {
      "text/plain": [
       "(7613, 5)"
      ]
     },
     "execution_count": 7,
     "metadata": {},
     "output_type": "execute_result"
    }
   ],
   "source": [
    "df.shape"
   ]
  },
  {
   "cell_type": "code",
   "execution_count": 8,
   "id": "e3fe9abc",
   "metadata": {
    "execution": {
     "iopub.execute_input": "2024-02-13T02:34:28.871113Z",
     "iopub.status.busy": "2024-02-13T02:34:28.870674Z",
     "iopub.status.idle": "2024-02-13T02:34:28.883772Z",
     "shell.execute_reply": "2024-02-13T02:34:28.882631Z"
    },
    "papermill": {
     "duration": 0.040882,
     "end_time": "2024-02-13T02:34:28.886100",
     "exception": false,
     "start_time": "2024-02-13T02:34:28.845218",
     "status": "completed"
    },
    "tags": []
   },
   "outputs": [],
   "source": [
    "df['text_length'] = df['text'].apply(lambda x : len(x))"
   ]
  },
  {
   "cell_type": "code",
   "execution_count": 9,
   "id": "8cabefed",
   "metadata": {
    "execution": {
     "iopub.execute_input": "2024-02-13T02:34:28.936527Z",
     "iopub.status.busy": "2024-02-13T02:34:28.936118Z",
     "iopub.status.idle": "2024-02-13T02:34:28.944579Z",
     "shell.execute_reply": "2024-02-13T02:34:28.943502Z"
    },
    "papermill": {
     "duration": 0.036658,
     "end_time": "2024-02-13T02:34:28.946874",
     "exception": false,
     "start_time": "2024-02-13T02:34:28.910216",
     "status": "completed"
    },
    "tags": []
   },
   "outputs": [
    {
     "data": {
      "text/plain": [
       "157"
      ]
     },
     "execution_count": 9,
     "metadata": {},
     "output_type": "execute_result"
    }
   ],
   "source": [
    "max(df['text_length'])"
   ]
  },
  {
   "cell_type": "code",
   "execution_count": 10,
   "id": "22731bb7",
   "metadata": {
    "execution": {
     "iopub.execute_input": "2024-02-13T02:34:28.997058Z",
     "iopub.status.busy": "2024-02-13T02:34:28.996644Z",
     "iopub.status.idle": "2024-02-13T02:34:29.291646Z",
     "shell.execute_reply": "2024-02-13T02:34:29.290260Z"
    },
    "papermill": {
     "duration": 0.323498,
     "end_time": "2024-02-13T02:34:29.294473",
     "exception": false,
     "start_time": "2024-02-13T02:34:28.970975",
     "status": "completed"
    },
    "tags": []
   },
   "outputs": [
    {
     "data": {
      "text/plain": [
       "<Axes: ylabel='Frequency'>"
      ]
     },
     "execution_count": 10,
     "metadata": {},
     "output_type": "execute_result"
    },
    {
     "data": {
      "image/png": "[encoded data removed]",
      "text/plain": [
       "<Figure size 640x480 with 1 Axes>"
      ]
     },
     "metadata": {},
     "output_type": "display_data"
    }
   ],
   "source": [
    "df['text_length'].plot.hist(bins = 30)"
   ]
  },
  {
   "cell_type": "code",
   "execution_count": 11,
   "id": "85ff6650",
   "metadata": {
    "execution": {
     "iopub.execute_input": "2024-02-13T02:34:29.344151Z",
     "iopub.status.busy": "2024-02-13T02:34:29.343643Z",
     "iopub.status.idle": "2024-02-13T02:34:29.355104Z",
     "shell.execute_reply": "2024-02-13T02:34:29.353740Z"
    },
    "papermill": {
     "duration": 0.039495,
     "end_time": "2024-02-13T02:34:29.357767",
     "exception": false,
     "start_time": "2024-02-13T02:34:29.318272",
     "status": "completed"
    },
    "tags": []
   },
   "outputs": [
    {
     "name": "stdout",
     "output_type": "stream",
     "text": [
      "id                0\n",
      "keyword          61\n",
      "location       2533\n",
      "text              0\n",
      "target            0\n",
      "text_length       0\n",
      "dtype: int64\n"
     ]
    }
   ],
   "source": [
    "print(df.isnull().sum())"
   ]
  },
  {
   "cell_type": "code",
   "execution_count": 12,
   "id": "8e7def2a",
   "metadata": {
    "execution": {
     "iopub.execute_input": "2024-02-13T02:34:29.408234Z",
     "iopub.status.busy": "2024-02-13T02:34:29.407777Z",
     "iopub.status.idle": "2024-02-13T02:34:29.416867Z",
     "shell.execute_reply": "2024-02-13T02:34:29.416054Z"
    },
    "papermill": {
     "duration": 0.037991,
     "end_time": "2024-02-13T02:34:29.419890",
     "exception": false,
     "start_time": "2024-02-13T02:34:29.381899",
     "status": "completed"
    },
    "tags": []
   },
   "outputs": [
    {
     "name": "stderr",
     "output_type": "stream",
     "text": [
      "/tmp/ipykernel_18/1751759285.py:1: FutureWarning: A value is trying to be set on a copy of a DataFrame or Series through chained assignment using an inplace method.\n",
      "The behavior will change in pandas 3.0. This inplace method will never work because the intermediate object on which we are setting values always behaves as a copy.\n",
      "\n",
      "For example, when doing 'df[col].method(value, inplace=True)', try using 'df.method({col: value}, inplace=True)' or df[col] = df[col].method(value) instead, to perform the operation inplace on the original object.\n",
      "\n",
      "\n",
      "  df['keyword'].fillna('empty', inplace=True)\n",
      "/tmp/ipykernel_18/1751759285.py:2: FutureWarning: A value is trying to be set on a copy of a DataFrame or Series through chained assignment using an inplace method.\n",
      "The behavior will change in pandas 3.0. This inplace method will never work because the intermediate object on which we are setting values always behaves as a copy.\n",
      "\n",
      "For example, when doing 'df[col].method(value, inplace=True)', try using 'df.method({col: value}, inplace=True)' or df[col] = df[col].method(value) instead, to perform the operation inplace on the original object.\n",
      "\n",
      "\n",
      "  df['location'].fillna('empty', inplace=True)\n"
     ]
    }
   ],
   "source": [
    "df['keyword'].fillna('empty', inplace=True)\n",
    "df['location'].fillna('empty', inplace=True)"
   ]
  },
  {
   "cell_type": "code",
   "execution_count": 13,
   "id": "0f438f0c",
   "metadata": {
    "execution": {
     "iopub.execute_input": "2024-02-13T02:34:29.469603Z",
     "iopub.status.busy": "2024-02-13T02:34:29.469131Z",
     "iopub.status.idle": "2024-02-13T02:34:29.480034Z",
     "shell.execute_reply": "2024-02-13T02:34:29.478653Z"
    },
    "papermill": {
     "duration": 0.038428,
     "end_time": "2024-02-13T02:34:29.482342",
     "exception": false,
     "start_time": "2024-02-13T02:34:29.443914",
     "status": "completed"
    },
    "tags": []
   },
   "outputs": [
    {
     "name": "stdout",
     "output_type": "stream",
     "text": [
      "id             0\n",
      "keyword        0\n",
      "location       0\n",
      "text           0\n",
      "target         0\n",
      "text_length    0\n",
      "dtype: int64\n"
     ]
    }
   ],
   "source": [
    "print(df.isnull().sum())"
   ]
  },
  {
   "cell_type": "markdown",
   "id": "0ce5018c",
   "metadata": {
    "papermill": {
     "duration": 0.023995,
     "end_time": "2024-02-13T02:34:29.530211",
     "exception": false,
     "start_time": "2024-02-13T02:34:29.506216",
     "status": "completed"
    },
    "tags": []
   },
   "source": [
    "## Perform Punctuation Removal and Convert to Lower Case"
   ]
  },
  {
   "cell_type": "code",
   "execution_count": 14,
   "id": "f205fe28",
   "metadata": {
    "execution": {
     "iopub.execute_input": "2024-02-13T02:34:29.579468Z",
     "iopub.status.busy": "2024-02-13T02:34:29.578953Z",
     "iopub.status.idle": "2024-02-13T02:34:29.603837Z",
     "shell.execute_reply": "2024-02-13T02:34:29.602701Z"
    },
    "papermill": {
     "duration": 0.052488,
     "end_time": "2024-02-13T02:34:29.606181",
     "exception": false,
     "start_time": "2024-02-13T02:34:29.553693",
     "status": "completed"
    },
    "tags": []
   },
   "outputs": [
    {
     "data": {
      "text/plain": [
       "0       empty\n",
       "1       empty\n",
       "2       empty\n",
       "3       empty\n",
       "4       empty\n",
       "        ...  \n",
       "7608    empty\n",
       "7609    empty\n",
       "7610    empty\n",
       "7611    empty\n",
       "7612    empty\n",
       "Name: location, Length: 7613, dtype: object"
      ]
     },
     "execution_count": 14,
     "metadata": {},
     "output_type": "execute_result"
    }
   ],
   "source": [
    "df['text'].apply(lambda x : x.lower())\n",
    "df['keyword'].apply(lambda x : x.lower())\n",
    "df['location'].apply(lambda x : x.lower())"
   ]
  },
  {
   "cell_type": "code",
   "execution_count": 15,
   "id": "54aaabd6",
   "metadata": {
    "execution": {
     "iopub.execute_input": "2024-02-13T02:34:29.655909Z",
     "iopub.status.busy": "2024-02-13T02:34:29.655436Z",
     "iopub.status.idle": "2024-02-13T02:34:29.676756Z",
     "shell.execute_reply": "2024-02-13T02:34:29.675550Z"
    },
    "papermill": {
     "duration": 0.0496,
     "end_time": "2024-02-13T02:34:29.679401",
     "exception": false,
     "start_time": "2024-02-13T02:34:29.629801",
     "status": "completed"
    },
    "tags": []
   },
   "outputs": [],
   "source": [
    "df['text'] = df['text'].apply(lambda x : x.lower())\n",
    "df['keyword'] = df['keyword'].apply(lambda x : x.lower())\n",
    "df['location'] = df['location'].apply(lambda x : x.lower())"
   ]
  },
  {
   "cell_type": "code",
   "execution_count": 16,
   "id": "7761b45b",
   "metadata": {
    "execution": {
     "iopub.execute_input": "2024-02-13T02:34:29.728962Z",
     "iopub.status.busy": "2024-02-13T02:34:29.728465Z",
     "iopub.status.idle": "2024-02-13T02:34:29.742626Z",
     "shell.execute_reply": "2024-02-13T02:34:29.741441Z"
    },
    "papermill": {
     "duration": 0.042105,
     "end_time": "2024-02-13T02:34:29.745091",
     "exception": false,
     "start_time": "2024-02-13T02:34:29.702986",
     "status": "completed"
    },
    "tags": []
   },
   "outputs": [
    {
     "data": {
      "text/html": [
       "<div>\n",
       "<style scoped>\n",
       "    .dataframe tbody tr th:only-of-type {\n",
       "        vertical-align: middle;\n",
       "    }\n",
       "\n",
       "    .dataframe tbody tr th {\n",
       "        vertical-align: top;\n",
       "    }\n",
       "\n",
       "    .dataframe thead th {\n",
       "        text-align: right;\n",
       "    }\n",
       "</style>\n",
       "<table border=\"1\" class=\"dataframe\">\n",
       "  <thead>\n",
       "    <tr style=\"text-align: right;\">\n",
       "      <th></th>\n",
       "      <th>id</th>\n",
       "      <th>keyword</th>\n",
       "      <th>location</th>\n",
       "      <th>text</th>\n",
       "      <th>target</th>\n",
       "      <th>text_length</th>\n",
       "    </tr>\n",
       "  </thead>\n",
       "  <tbody>\n",
       "    <tr>\n",
       "      <th>0</th>\n",
       "      <td>1</td>\n",
       "      <td>empty</td>\n",
       "      <td>empty</td>\n",
       "      <td>our deeds are the reason of this #earthquake m...</td>\n",
       "      <td>1</td>\n",
       "      <td>69</td>\n",
       "    </tr>\n",
       "    <tr>\n",
       "      <th>1</th>\n",
       "      <td>4</td>\n",
       "      <td>empty</td>\n",
       "      <td>empty</td>\n",
       "      <td>forest fire near la ronge sask. canada</td>\n",
       "      <td>1</td>\n",
       "      <td>38</td>\n",
       "    </tr>\n",
       "    <tr>\n",
       "      <th>2</th>\n",
       "      <td>5</td>\n",
       "      <td>empty</td>\n",
       "      <td>empty</td>\n",
       "      <td>all residents asked to 'shelter in place' are ...</td>\n",
       "      <td>1</td>\n",
       "      <td>133</td>\n",
       "    </tr>\n",
       "    <tr>\n",
       "      <th>3</th>\n",
       "      <td>6</td>\n",
       "      <td>empty</td>\n",
       "      <td>empty</td>\n",
       "      <td>13,000 people receive #wildfires evacuation or...</td>\n",
       "      <td>1</td>\n",
       "      <td>65</td>\n",
       "    </tr>\n",
       "    <tr>\n",
       "      <th>4</th>\n",
       "      <td>7</td>\n",
       "      <td>empty</td>\n",
       "      <td>empty</td>\n",
       "      <td>just got sent this photo from ruby #alaska as ...</td>\n",
       "      <td>1</td>\n",
       "      <td>88</td>\n",
       "    </tr>\n",
       "  </tbody>\n",
       "</table>\n",
       "</div>"
      ],
      "text/plain": [
       "   id keyword location                                               text  \\\n",
       "0   1   empty    empty  our deeds are the reason of this #earthquake m...   \n",
       "1   4   empty    empty             forest fire near la ronge sask. canada   \n",
       "2   5   empty    empty  all residents asked to 'shelter in place' are ...   \n",
       "3   6   empty    empty  13,000 people receive #wildfires evacuation or...   \n",
       "4   7   empty    empty  just got sent this photo from ruby #alaska as ...   \n",
       "\n",
       "   target  text_length  \n",
       "0       1           69  \n",
       "1       1           38  \n",
       "2       1          133  \n",
       "3       1           65  \n",
       "4       1           88  "
      ]
     },
     "execution_count": 16,
     "metadata": {},
     "output_type": "execute_result"
    }
   ],
   "source": [
    "df.head(5)"
   ]
  },
  {
   "cell_type": "code",
   "execution_count": 17,
   "id": "44c78959",
   "metadata": {
    "execution": {
     "iopub.execute_input": "2024-02-13T02:34:29.795849Z",
     "iopub.status.busy": "2024-02-13T02:34:29.795386Z",
     "iopub.status.idle": "2024-02-13T02:34:29.905559Z",
     "shell.execute_reply": "2024-02-13T02:34:29.904232Z"
    },
    "papermill": {
     "duration": 0.139744,
     "end_time": "2024-02-13T02:34:29.908617",
     "exception": false,
     "start_time": "2024-02-13T02:34:29.768873",
     "status": "completed"
    },
    "tags": []
   },
   "outputs": [],
   "source": [
    "import re\n",
    "# Function to remove punctuation from a given text\n",
    "def remove_punctuation(text):\n",
    "    # Use a regular expression to remove punctuation\n",
    "    return re.sub(r'[^\\w\\s]', '', text)\n",
    "\n",
    "# Apply the function to the 'text' column\n",
    "df['text'] = df['text'].apply(remove_punctuation)\n",
    "\n",
    "# Function to remove punctuation from a given text\n",
    "def remove_punctuation(keyword):\n",
    "    # Use a regular expression to remove punctuation\n",
    "    return re.sub(r'[^\\w\\s]', '', keyword)\n",
    "\n",
    "# Apply the function to the 'text' column\n",
    "df['keyword'] = df['keyword'].apply(remove_punctuation)\n",
    "\n",
    "# Function to remove punctuation from a given text\n",
    "def remove_punctuation(location):\n",
    "    # Use a regular expression to remove punctuation\n",
    "    return re.sub(r'[^\\w\\s]', '', location)\n",
    "\n",
    "# Apply the function to the 'text' column\n",
    "df['location'] = df['location'].apply(remove_punctuation)"
   ]
  },
  {
   "cell_type": "markdown",
   "id": "b9850ab6",
   "metadata": {
    "papermill": {
     "duration": 0.025158,
     "end_time": "2024-02-13T02:34:29.958860",
     "exception": false,
     "start_time": "2024-02-13T02:34:29.933702",
     "status": "completed"
    },
    "tags": []
   },
   "source": [
    "## Remove Stop Words"
   ]
  },
  {
   "cell_type": "code",
   "execution_count": 18,
   "id": "c9f66f27",
   "metadata": {
    "execution": {
     "iopub.execute_input": "2024-02-13T02:34:30.107910Z",
     "iopub.status.busy": "2024-02-13T02:34:30.107335Z",
     "iopub.status.idle": "2024-02-13T02:34:30.199881Z",
     "shell.execute_reply": "2024-02-13T02:34:30.198316Z"
    },
    "papermill": {
     "duration": 0.218661,
     "end_time": "2024-02-13T02:34:30.202805",
     "exception": false,
     "start_time": "2024-02-13T02:34:29.984144",
     "status": "completed"
    },
    "tags": []
   },
   "outputs": [
    {
     "name": "stdout",
     "output_type": "stream",
     "text": [
      "[nltk_data] Downloading package stopwords to /usr/share/nltk_data...\n",
      "[nltk_data]   Package stopwords is already up-to-date!\n"
     ]
    }
   ],
   "source": [
    "nltk.download('stopwords')\n",
    "stop = stopwords.words('english')"
   ]
  },
  {
   "cell_type": "code",
   "execution_count": 19,
   "id": "62088b67",
   "metadata": {
    "execution": {
     "iopub.execute_input": "2024-02-13T02:34:30.258087Z",
     "iopub.status.busy": "2024-02-13T02:34:30.257341Z",
     "iopub.status.idle": "2024-02-13T02:34:30.270025Z",
     "shell.execute_reply": "2024-02-13T02:34:30.269080Z"
    },
    "papermill": {
     "duration": 0.044669,
     "end_time": "2024-02-13T02:34:30.272531",
     "exception": false,
     "start_time": "2024-02-13T02:34:30.227862",
     "status": "completed"
    },
    "tags": []
   },
   "outputs": [
    {
     "data": {
      "text/plain": [
       "['i',\n",
       " 'me',\n",
       " 'my',\n",
       " 'myself',\n",
       " 'we',\n",
       " 'our',\n",
       " 'ours',\n",
       " 'ourselves',\n",
       " 'you',\n",
       " \"you're\",\n",
       " \"you've\",\n",
       " \"you'll\",\n",
       " \"you'd\",\n",
       " 'your',\n",
       " 'yours',\n",
       " 'yourself',\n",
       " 'yourselves',\n",
       " 'he',\n",
       " 'him',\n",
       " 'his',\n",
       " 'himself',\n",
       " 'she',\n",
       " \"she's\",\n",
       " 'her',\n",
       " 'hers',\n",
       " 'herself',\n",
       " 'it',\n",
       " \"it's\",\n",
       " 'its',\n",
       " 'itself',\n",
       " 'they',\n",
       " 'them',\n",
       " 'their',\n",
       " 'theirs',\n",
       " 'themselves',\n",
       " 'what',\n",
       " 'which',\n",
       " 'who',\n",
       " 'whom',\n",
       " 'this',\n",
       " 'that',\n",
       " \"that'll\",\n",
       " 'these',\n",
       " 'those',\n",
       " 'am',\n",
       " 'is',\n",
       " 'are',\n",
       " 'was',\n",
       " 'were',\n",
       " 'be',\n",
       " 'been',\n",
       " 'being',\n",
       " 'have',\n",
       " 'has',\n",
       " 'had',\n",
       " 'having',\n",
       " 'do',\n",
       " 'does',\n",
       " 'did',\n",
       " 'doing',\n",
       " 'a',\n",
       " 'an',\n",
       " 'the',\n",
       " 'and',\n",
       " 'but',\n",
       " 'if',\n",
       " 'or',\n",
       " 'because',\n",
       " 'as',\n",
       " 'until',\n",
       " 'while',\n",
       " 'of',\n",
       " 'at',\n",
       " 'by',\n",
       " 'for',\n",
       " 'with',\n",
       " 'about',\n",
       " 'against',\n",
       " 'between',\n",
       " 'into',\n",
       " 'through',\n",
       " 'during',\n",
       " 'before',\n",
       " 'after',\n",
       " 'above',\n",
       " 'below',\n",
       " 'to',\n",
       " 'from',\n",
       " 'up',\n",
       " 'down',\n",
       " 'in',\n",
       " 'out',\n",
       " 'on',\n",
       " 'off',\n",
       " 'over',\n",
       " 'under',\n",
       " 'again',\n",
       " 'further',\n",
       " 'then',\n",
       " 'once',\n",
       " 'here',\n",
       " 'there',\n",
       " 'when',\n",
       " 'where',\n",
       " 'why',\n",
       " 'how',\n",
       " 'all',\n",
       " 'any',\n",
       " 'both',\n",
       " 'each',\n",
       " 'few',\n",
       " 'more',\n",
       " 'most',\n",
       " 'other',\n",
       " 'some',\n",
       " 'such',\n",
       " 'no',\n",
       " 'nor',\n",
       " 'not',\n",
       " 'only',\n",
       " 'own',\n",
       " 'same',\n",
       " 'so',\n",
       " 'than',\n",
       " 'too',\n",
       " 'very',\n",
       " 's',\n",
       " 't',\n",
       " 'can',\n",
       " 'will',\n",
       " 'just',\n",
       " 'don',\n",
       " \"don't\",\n",
       " 'should',\n",
       " \"should've\",\n",
       " 'now',\n",
       " 'd',\n",
       " 'll',\n",
       " 'm',\n",
       " 'o',\n",
       " 're',\n",
       " 've',\n",
       " 'y',\n",
       " 'ain',\n",
       " 'aren',\n",
       " \"aren't\",\n",
       " 'couldn',\n",
       " \"couldn't\",\n",
       " 'didn',\n",
       " \"didn't\",\n",
       " 'doesn',\n",
       " \"doesn't\",\n",
       " 'hadn',\n",
       " \"hadn't\",\n",
       " 'hasn',\n",
       " \"hasn't\",\n",
       " 'haven',\n",
       " \"haven't\",\n",
       " 'isn',\n",
       " \"isn't\",\n",
       " 'ma',\n",
       " 'mightn',\n",
       " \"mightn't\",\n",
       " 'mustn',\n",
       " \"mustn't\",\n",
       " 'needn',\n",
       " \"needn't\",\n",
       " 'shan',\n",
       " \"shan't\",\n",
       " 'shouldn',\n",
       " \"shouldn't\",\n",
       " 'wasn',\n",
       " \"wasn't\",\n",
       " 'weren',\n",
       " \"weren't\",\n",
       " 'won',\n",
       " \"won't\",\n",
       " 'wouldn',\n",
       " \"wouldn't\"]"
      ]
     },
     "execution_count": 19,
     "metadata": {},
     "output_type": "execute_result"
    }
   ],
   "source": [
    "stop"
   ]
  },
  {
   "cell_type": "code",
   "execution_count": 20,
   "id": "28a1fdff",
   "metadata": {
    "execution": {
     "iopub.execute_input": "2024-02-13T02:34:30.343400Z",
     "iopub.status.busy": "2024-02-13T02:34:30.342601Z",
     "iopub.status.idle": "2024-02-13T02:34:30.775408Z",
     "shell.execute_reply": "2024-02-13T02:34:30.774271Z"
    },
    "papermill": {
     "duration": 0.473475,
     "end_time": "2024-02-13T02:34:30.778574",
     "exception": false,
     "start_time": "2024-02-13T02:34:30.305099",
     "status": "completed"
    },
    "tags": []
   },
   "outputs": [
    {
     "data": {
      "text/plain": [
       "0       [empty]\n",
       "1       [empty]\n",
       "2       [empty]\n",
       "3       [empty]\n",
       "4       [empty]\n",
       "         ...   \n",
       "7608    [empty]\n",
       "7609    [empty]\n",
       "7610    [empty]\n",
       "7611    [empty]\n",
       "7612    [empty]\n",
       "Name: location, Length: 7613, dtype: object"
      ]
     },
     "execution_count": 20,
     "metadata": {},
     "output_type": "execute_result"
    }
   ],
   "source": [
    "# Tokenize and Remove Stop Words\n",
    "df['text'].apply(lambda x: [word for word in x.split() if word not in stop])\n",
    "df['keyword'].apply(lambda x: [word for word in x.split() if word not in stop])\n",
    "df['location'].apply(lambda x: [word for word in x.split() if word not in stop])"
   ]
  },
  {
   "cell_type": "code",
   "execution_count": 21,
   "id": "770e1b5d",
   "metadata": {
    "execution": {
     "iopub.execute_input": "2024-02-13T02:34:30.837457Z",
     "iopub.status.busy": "2024-02-13T02:34:30.836497Z",
     "iopub.status.idle": "2024-02-13T02:34:31.193648Z",
     "shell.execute_reply": "2024-02-13T02:34:31.192697Z"
    },
    "papermill": {
     "duration": 0.390413,
     "end_time": "2024-02-13T02:34:31.197260",
     "exception": false,
     "start_time": "2024-02-13T02:34:30.806847",
     "status": "completed"
    },
    "tags": []
   },
   "outputs": [],
   "source": [
    "# Join the words back\n",
    "df['text'] = df['text'].apply(lambda x: ' '.join([word for word in x.split() if word not in (stop)]))\n",
    "df['keyword'] = df['keyword'].apply(lambda x: ' '.join([word for word in x.split() if word not in (stop)]))\n",
    "df['location'] = df['location'].apply(lambda x: ' '.join([word for word in x.split() if word not in (stop)]))"
   ]
  },
  {
   "cell_type": "code",
   "execution_count": 22,
   "id": "0148f1bc",
   "metadata": {
    "execution": {
     "iopub.execute_input": "2024-02-13T02:34:31.254667Z",
     "iopub.status.busy": "2024-02-13T02:34:31.253308Z",
     "iopub.status.idle": "2024-02-13T02:34:31.266621Z",
     "shell.execute_reply": "2024-02-13T02:34:31.265525Z"
    },
    "papermill": {
     "duration": 0.042111,
     "end_time": "2024-02-13T02:34:31.269057",
     "exception": false,
     "start_time": "2024-02-13T02:34:31.226946",
     "status": "completed"
    },
    "tags": []
   },
   "outputs": [
    {
     "data": {
      "text/html": [
       "<div>\n",
       "<style scoped>\n",
       "    .dataframe tbody tr th:only-of-type {\n",
       "        vertical-align: middle;\n",
       "    }\n",
       "\n",
       "    .dataframe tbody tr th {\n",
       "        vertical-align: top;\n",
       "    }\n",
       "\n",
       "    .dataframe thead th {\n",
       "        text-align: right;\n",
       "    }\n",
       "</style>\n",
       "<table border=\"1\" class=\"dataframe\">\n",
       "  <thead>\n",
       "    <tr style=\"text-align: right;\">\n",
       "      <th></th>\n",
       "      <th>id</th>\n",
       "      <th>keyword</th>\n",
       "      <th>location</th>\n",
       "      <th>text</th>\n",
       "      <th>target</th>\n",
       "      <th>text_length</th>\n",
       "    </tr>\n",
       "  </thead>\n",
       "  <tbody>\n",
       "    <tr>\n",
       "      <th>0</th>\n",
       "      <td>1</td>\n",
       "      <td>empty</td>\n",
       "      <td>empty</td>\n",
       "      <td>deeds reason earthquake may allah forgive us</td>\n",
       "      <td>1</td>\n",
       "      <td>69</td>\n",
       "    </tr>\n",
       "    <tr>\n",
       "      <th>1</th>\n",
       "      <td>4</td>\n",
       "      <td>empty</td>\n",
       "      <td>empty</td>\n",
       "      <td>forest fire near la ronge sask canada</td>\n",
       "      <td>1</td>\n",
       "      <td>38</td>\n",
       "    </tr>\n",
       "    <tr>\n",
       "      <th>2</th>\n",
       "      <td>5</td>\n",
       "      <td>empty</td>\n",
       "      <td>empty</td>\n",
       "      <td>residents asked shelter place notified officer...</td>\n",
       "      <td>1</td>\n",
       "      <td>133</td>\n",
       "    </tr>\n",
       "    <tr>\n",
       "      <th>3</th>\n",
       "      <td>6</td>\n",
       "      <td>empty</td>\n",
       "      <td>empty</td>\n",
       "      <td>13000 people receive wildfires evacuation orde...</td>\n",
       "      <td>1</td>\n",
       "      <td>65</td>\n",
       "    </tr>\n",
       "    <tr>\n",
       "      <th>4</th>\n",
       "      <td>7</td>\n",
       "      <td>empty</td>\n",
       "      <td>empty</td>\n",
       "      <td>got sent photo ruby alaska smoke wildfires pou...</td>\n",
       "      <td>1</td>\n",
       "      <td>88</td>\n",
       "    </tr>\n",
       "  </tbody>\n",
       "</table>\n",
       "</div>"
      ],
      "text/plain": [
       "   id keyword location                                               text  \\\n",
       "0   1   empty    empty       deeds reason earthquake may allah forgive us   \n",
       "1   4   empty    empty              forest fire near la ronge sask canada   \n",
       "2   5   empty    empty  residents asked shelter place notified officer...   \n",
       "3   6   empty    empty  13000 people receive wildfires evacuation orde...   \n",
       "4   7   empty    empty  got sent photo ruby alaska smoke wildfires pou...   \n",
       "\n",
       "   target  text_length  \n",
       "0       1           69  \n",
       "1       1           38  \n",
       "2       1          133  \n",
       "3       1           65  \n",
       "4       1           88  "
      ]
     },
     "execution_count": 22,
     "metadata": {},
     "output_type": "execute_result"
    }
   ],
   "source": [
    "df.head()"
   ]
  },
  {
   "cell_type": "markdown",
   "id": "11dc7f49",
   "metadata": {
    "papermill": {
     "duration": 0.025406,
     "end_time": "2024-02-13T02:34:31.319917",
     "exception": false,
     "start_time": "2024-02-13T02:34:31.294511",
     "status": "completed"
    },
    "tags": []
   },
   "source": [
    "## Perform Lemmatization or Stemming (only one)"
   ]
  },
  {
   "cell_type": "code",
   "execution_count": 23,
   "id": "d61f720e",
   "metadata": {
    "execution": {
     "iopub.execute_input": "2024-02-13T02:34:31.373092Z",
     "iopub.status.busy": "2024-02-13T02:34:31.371839Z",
     "iopub.status.idle": "2024-02-13T02:34:31.862972Z",
     "shell.execute_reply": "2024-02-13T02:34:31.861825Z"
    },
    "papermill": {
     "duration": 0.520657,
     "end_time": "2024-02-13T02:34:31.865792",
     "exception": false,
     "start_time": "2024-02-13T02:34:31.345135",
     "status": "completed"
    },
    "tags": []
   },
   "outputs": [
    {
     "name": "stdout",
     "output_type": "stream",
     "text": [
      "[nltk_data] Downloading package wordnet to /usr/share/nltk_data...\n",
      "[nltk_data]   Package wordnet is already up-to-date!\n",
      "[nltk_data] Downloading package wordnet2022 to /usr/share/nltk_data...\n",
      "[nltk_data]   Unzipping corpora/wordnet2022.zip.\n"
     ]
    },
    {
     "data": {
      "text/plain": [
       "True"
      ]
     },
     "execution_count": 23,
     "metadata": {},
     "output_type": "execute_result"
    }
   ],
   "source": [
    "nltk.download('wordnet')\n",
    "nltk.download('wordnet2022')"
   ]
  },
  {
   "cell_type": "code",
   "execution_count": 24,
   "id": "88efa34d",
   "metadata": {
    "execution": {
     "iopub.execute_input": "2024-02-13T02:34:31.920258Z",
     "iopub.status.busy": "2024-02-13T02:34:31.919248Z",
     "iopub.status.idle": "2024-02-13T02:34:33.065055Z",
     "shell.execute_reply": "2024-02-13T02:34:33.063533Z"
    },
    "papermill": {
     "duration": 1.176553,
     "end_time": "2024-02-13T02:34:33.068320",
     "exception": false,
     "start_time": "2024-02-13T02:34:31.891767",
     "status": "completed"
    },
    "tags": []
   },
   "outputs": [],
   "source": [
    "! cp -rf /usr/share/nltk_data/corpora/wordnet2022 /usr/share/nltk_data/corpora/wordnet # temp fix for lookup error."
   ]
  },
  {
   "cell_type": "code",
   "execution_count": 25,
   "id": "e7c012f5",
   "metadata": {
    "execution": {
     "iopub.execute_input": "2024-02-13T02:34:33.123291Z",
     "iopub.status.busy": "2024-02-13T02:34:33.121755Z",
     "iopub.status.idle": "2024-02-13T02:34:33.127883Z",
     "shell.execute_reply": "2024-02-13T02:34:33.127070Z"
    },
    "papermill": {
     "duration": 0.036375,
     "end_time": "2024-02-13T02:34:33.130329",
     "exception": false,
     "start_time": "2024-02-13T02:34:33.093954",
     "status": "completed"
    },
    "tags": []
   },
   "outputs": [],
   "source": [
    "wordnet = WordNetLemmatizer()"
   ]
  },
  {
   "cell_type": "code",
   "execution_count": 26,
   "id": "b143ee06",
   "metadata": {
    "execution": {
     "iopub.execute_input": "2024-02-13T02:34:33.184051Z",
     "iopub.status.busy": "2024-02-13T02:34:33.183640Z",
     "iopub.status.idle": "2024-02-13T02:34:36.382099Z",
     "shell.execute_reply": "2024-02-13T02:34:36.380794Z"
    },
    "papermill": {
     "duration": 3.229386,
     "end_time": "2024-02-13T02:34:36.384891",
     "exception": false,
     "start_time": "2024-02-13T02:34:33.155505",
     "status": "completed"
    },
    "tags": []
   },
   "outputs": [
    {
     "name": "stdout",
     "output_type": "stream",
     "text": [
      "[nltk_data] Downloading package omw-1.4 to /usr/share/nltk_data...\n"
     ]
    },
    {
     "data": {
      "text/plain": [
       "0       empty\n",
       "1       empty\n",
       "2       empty\n",
       "3       empty\n",
       "4       empty\n",
       "        ...  \n",
       "7608    empty\n",
       "7609    empty\n",
       "7610    empty\n",
       "7611    empty\n",
       "7612    empty\n",
       "Name: location, Length: 7613, dtype: object"
      ]
     },
     "execution_count": 26,
     "metadata": {},
     "output_type": "execute_result"
    }
   ],
   "source": [
    "nltk.download('omw-1.4')\n",
    "# Lemmatize\n",
    "df['text'].apply(lambda x : wordnet.lemmatize(x))\n",
    "df['keyword'].apply(lambda x : wordnet.lemmatize(x))\n",
    "df['location'].apply(lambda x : wordnet.lemmatize(x))"
   ]
  },
  {
   "cell_type": "code",
   "execution_count": 27,
   "id": "b3d7428b",
   "metadata": {
    "execution": {
     "iopub.execute_input": "2024-02-13T02:34:36.438415Z",
     "iopub.status.busy": "2024-02-13T02:34:36.437900Z",
     "iopub.status.idle": "2024-02-13T02:34:36.603463Z",
     "shell.execute_reply": "2024-02-13T02:34:36.601950Z"
    },
    "papermill": {
     "duration": 0.195611,
     "end_time": "2024-02-13T02:34:36.606351",
     "exception": false,
     "start_time": "2024-02-13T02:34:36.410740",
     "status": "completed"
    },
    "tags": []
   },
   "outputs": [],
   "source": [
    "# Commit to Table\n",
    "df['text'] = df['text'].apply(lambda x : wordnet.lemmatize(x))\n",
    "df['keyword'] = df['keyword'].apply(lambda x : wordnet.lemmatize(x))\n",
    "df['location'] = df['location'].apply(lambda x : wordnet.lemmatize(x))"
   ]
  },
  {
   "cell_type": "code",
   "execution_count": 28,
   "id": "15f44de0",
   "metadata": {
    "execution": {
     "iopub.execute_input": "2024-02-13T02:34:36.661559Z",
     "iopub.status.busy": "2024-02-13T02:34:36.661071Z",
     "iopub.status.idle": "2024-02-13T02:34:36.675836Z",
     "shell.execute_reply": "2024-02-13T02:34:36.674504Z"
    },
    "papermill": {
     "duration": 0.044775,
     "end_time": "2024-02-13T02:34:36.678189",
     "exception": false,
     "start_time": "2024-02-13T02:34:36.633414",
     "status": "completed"
    },
    "tags": []
   },
   "outputs": [
    {
     "data": {
      "text/html": [
       "<div>\n",
       "<style scoped>\n",
       "    .dataframe tbody tr th:only-of-type {\n",
       "        vertical-align: middle;\n",
       "    }\n",
       "\n",
       "    .dataframe tbody tr th {\n",
       "        vertical-align: top;\n",
       "    }\n",
       "\n",
       "    .dataframe thead th {\n",
       "        text-align: right;\n",
       "    }\n",
       "</style>\n",
       "<table border=\"1\" class=\"dataframe\">\n",
       "  <thead>\n",
       "    <tr style=\"text-align: right;\">\n",
       "      <th></th>\n",
       "      <th>id</th>\n",
       "      <th>keyword</th>\n",
       "      <th>location</th>\n",
       "      <th>text</th>\n",
       "      <th>target</th>\n",
       "      <th>text_length</th>\n",
       "    </tr>\n",
       "  </thead>\n",
       "  <tbody>\n",
       "    <tr>\n",
       "      <th>0</th>\n",
       "      <td>1</td>\n",
       "      <td>empty</td>\n",
       "      <td>empty</td>\n",
       "      <td>deeds reason earthquake may allah forgive us</td>\n",
       "      <td>1</td>\n",
       "      <td>69</td>\n",
       "    </tr>\n",
       "    <tr>\n",
       "      <th>1</th>\n",
       "      <td>4</td>\n",
       "      <td>empty</td>\n",
       "      <td>empty</td>\n",
       "      <td>forest fire near la ronge sask canada</td>\n",
       "      <td>1</td>\n",
       "      <td>38</td>\n",
       "    </tr>\n",
       "    <tr>\n",
       "      <th>2</th>\n",
       "      <td>5</td>\n",
       "      <td>empty</td>\n",
       "      <td>empty</td>\n",
       "      <td>residents asked shelter place notified officer...</td>\n",
       "      <td>1</td>\n",
       "      <td>133</td>\n",
       "    </tr>\n",
       "    <tr>\n",
       "      <th>3</th>\n",
       "      <td>6</td>\n",
       "      <td>empty</td>\n",
       "      <td>empty</td>\n",
       "      <td>13000 people receive wildfires evacuation orde...</td>\n",
       "      <td>1</td>\n",
       "      <td>65</td>\n",
       "    </tr>\n",
       "    <tr>\n",
       "      <th>4</th>\n",
       "      <td>7</td>\n",
       "      <td>empty</td>\n",
       "      <td>empty</td>\n",
       "      <td>got sent photo ruby alaska smoke wildfires pou...</td>\n",
       "      <td>1</td>\n",
       "      <td>88</td>\n",
       "    </tr>\n",
       "  </tbody>\n",
       "</table>\n",
       "</div>"
      ],
      "text/plain": [
       "   id keyword location                                               text  \\\n",
       "0   1   empty    empty       deeds reason earthquake may allah forgive us   \n",
       "1   4   empty    empty              forest fire near la ronge sask canada   \n",
       "2   5   empty    empty  residents asked shelter place notified officer...   \n",
       "3   6   empty    empty  13000 people receive wildfires evacuation orde...   \n",
       "4   7   empty    empty  got sent photo ruby alaska smoke wildfires pou...   \n",
       "\n",
       "   target  text_length  \n",
       "0       1           69  \n",
       "1       1           38  \n",
       "2       1          133  \n",
       "3       1           65  \n",
       "4       1           88  "
      ]
     },
     "execution_count": 28,
     "metadata": {},
     "output_type": "execute_result"
    }
   ],
   "source": [
    "df.head()"
   ]
  },
  {
   "cell_type": "code",
   "execution_count": 29,
   "id": "c42b0d4a",
   "metadata": {
    "execution": {
     "iopub.execute_input": "2024-02-13T02:34:36.732233Z",
     "iopub.status.busy": "2024-02-13T02:34:36.731810Z",
     "iopub.status.idle": "2024-02-13T02:34:36.753660Z",
     "shell.execute_reply": "2024-02-13T02:34:36.752298Z"
    },
    "papermill": {
     "duration": 0.05184,
     "end_time": "2024-02-13T02:34:36.756290",
     "exception": false,
     "start_time": "2024-02-13T02:34:36.704450",
     "status": "completed"
    },
    "tags": []
   },
   "outputs": [
    {
     "data": {
      "text/html": [
       "<div>\n",
       "<style scoped>\n",
       "    .dataframe tbody tr th:only-of-type {\n",
       "        vertical-align: middle;\n",
       "    }\n",
       "\n",
       "    .dataframe tbody tr th {\n",
       "        vertical-align: top;\n",
       "    }\n",
       "\n",
       "    .dataframe thead th {\n",
       "        text-align: right;\n",
       "    }\n",
       "</style>\n",
       "<table border=\"1\" class=\"dataframe\">\n",
       "  <thead>\n",
       "    <tr style=\"text-align: right;\">\n",
       "      <th></th>\n",
       "      <th>id</th>\n",
       "      <th>keyword</th>\n",
       "      <th>location</th>\n",
       "      <th>text</th>\n",
       "      <th>target</th>\n",
       "      <th>text_length</th>\n",
       "      <th>post_text_length</th>\n",
       "    </tr>\n",
       "  </thead>\n",
       "  <tbody>\n",
       "    <tr>\n",
       "      <th>0</th>\n",
       "      <td>1</td>\n",
       "      <td>empty</td>\n",
       "      <td>empty</td>\n",
       "      <td>deeds reason earthquake may allah forgive us</td>\n",
       "      <td>1</td>\n",
       "      <td>69</td>\n",
       "      <td>44</td>\n",
       "    </tr>\n",
       "    <tr>\n",
       "      <th>1</th>\n",
       "      <td>4</td>\n",
       "      <td>empty</td>\n",
       "      <td>empty</td>\n",
       "      <td>forest fire near la ronge sask canada</td>\n",
       "      <td>1</td>\n",
       "      <td>38</td>\n",
       "      <td>37</td>\n",
       "    </tr>\n",
       "    <tr>\n",
       "      <th>2</th>\n",
       "      <td>5</td>\n",
       "      <td>empty</td>\n",
       "      <td>empty</td>\n",
       "      <td>residents asked shelter place notified officer...</td>\n",
       "      <td>1</td>\n",
       "      <td>133</td>\n",
       "      <td>88</td>\n",
       "    </tr>\n",
       "    <tr>\n",
       "      <th>3</th>\n",
       "      <td>6</td>\n",
       "      <td>empty</td>\n",
       "      <td>empty</td>\n",
       "      <td>13000 people receive wildfires evacuation orde...</td>\n",
       "      <td>1</td>\n",
       "      <td>65</td>\n",
       "      <td>59</td>\n",
       "    </tr>\n",
       "    <tr>\n",
       "      <th>4</th>\n",
       "      <td>7</td>\n",
       "      <td>empty</td>\n",
       "      <td>empty</td>\n",
       "      <td>got sent photo ruby alaska smoke wildfires pou...</td>\n",
       "      <td>1</td>\n",
       "      <td>88</td>\n",
       "      <td>55</td>\n",
       "    </tr>\n",
       "  </tbody>\n",
       "</table>\n",
       "</div>"
      ],
      "text/plain": [
       "   id keyword location                                               text  \\\n",
       "0   1   empty    empty       deeds reason earthquake may allah forgive us   \n",
       "1   4   empty    empty              forest fire near la ronge sask canada   \n",
       "2   5   empty    empty  residents asked shelter place notified officer...   \n",
       "3   6   empty    empty  13000 people receive wildfires evacuation orde...   \n",
       "4   7   empty    empty  got sent photo ruby alaska smoke wildfires pou...   \n",
       "\n",
       "   target  text_length  post_text_length  \n",
       "0       1           69                44  \n",
       "1       1           38                37  \n",
       "2       1          133                88  \n",
       "3       1           65                59  \n",
       "4       1           88                55  "
      ]
     },
     "execution_count": 29,
     "metadata": {},
     "output_type": "execute_result"
    }
   ],
   "source": [
    "# Create Length Feature\n",
    "df['post_text_length'] = df['text'].apply(lambda x : len(x))\n",
    "df.head()"
   ]
  },
  {
   "cell_type": "markdown",
   "id": "bfe2a97f",
   "metadata": {
    "papermill": {
     "duration": 0.026882,
     "end_time": "2024-02-13T02:34:36.809232",
     "exception": false,
     "start_time": "2024-02-13T02:34:36.782350",
     "status": "completed"
    },
    "tags": []
   },
   "source": [
    "## Code to perform train & test split"
   ]
  },
  {
   "cell_type": "code",
   "execution_count": 30,
   "id": "ae3041b1",
   "metadata": {
    "execution": {
     "iopub.execute_input": "2024-02-13T02:34:36.863321Z",
     "iopub.status.busy": "2024-02-13T02:34:36.862893Z",
     "iopub.status.idle": "2024-02-13T02:34:36.880893Z",
     "shell.execute_reply": "2024-02-13T02:34:36.879305Z"
    },
    "papermill": {
     "duration": 0.04798,
     "end_time": "2024-02-13T02:34:36.883355",
     "exception": false,
     "start_time": "2024-02-13T02:34:36.835375",
     "status": "completed"
    },
    "tags": []
   },
   "outputs": [
    {
     "name": "stdout",
     "output_type": "stream",
     "text": [
      "X_train shape: (6090, 5)\n",
      "y_train shape: (6090,)\n",
      "X_test shape: (1523, 5)\n",
      "y_test shape: (1523,)\n"
     ]
    }
   ],
   "source": [
    "y = df['target']\n",
    "X = df.drop(columns=['target', 'id'])\n",
    "\n",
    "# Split the data into training and testing sets\n",
    "X_train, X_test, y_train, y_test = train_test_split(X, y, test_size=0.2, random_state=42)\n",
    "\n",
    "# Print the shapes of the train and test sets to verify\n",
    "print(\"X_train shape:\", X_train.shape)\n",
    "print(\"y_train shape:\", y_train.shape)\n",
    "print(\"X_test shape:\", X_test.shape)\n",
    "print(\"y_test shape:\", y_test.shape)"
   ]
  },
  {
   "cell_type": "code",
   "execution_count": 31,
   "id": "7b491526",
   "metadata": {
    "execution": {
     "iopub.execute_input": "2024-02-13T02:34:36.939730Z",
     "iopub.status.busy": "2024-02-13T02:34:36.938886Z",
     "iopub.status.idle": "2024-02-13T02:34:36.960231Z",
     "shell.execute_reply": "2024-02-13T02:34:36.958880Z"
    },
    "papermill": {
     "duration": 0.052874,
     "end_time": "2024-02-13T02:34:36.962986",
     "exception": false,
     "start_time": "2024-02-13T02:34:36.910112",
     "status": "completed"
    },
    "tags": []
   },
   "outputs": [
    {
     "data": {
      "text/html": [
       "<div>\n",
       "<style scoped>\n",
       "    .dataframe tbody tr th:only-of-type {\n",
       "        vertical-align: middle;\n",
       "    }\n",
       "\n",
       "    .dataframe tbody tr th {\n",
       "        vertical-align: top;\n",
       "    }\n",
       "\n",
       "    .dataframe thead th {\n",
       "        text-align: right;\n",
       "    }\n",
       "</style>\n",
       "<table border=\"1\" class=\"dataframe\">\n",
       "  <thead>\n",
       "    <tr style=\"text-align: right;\">\n",
       "      <th></th>\n",
       "      <th>keyword</th>\n",
       "      <th>location</th>\n",
       "      <th>text</th>\n",
       "      <th>text_length</th>\n",
       "      <th>post_text_length</th>\n",
       "    </tr>\n",
       "  </thead>\n",
       "  <tbody>\n",
       "    <tr>\n",
       "      <th>4996</th>\n",
       "      <td>military</td>\n",
       "      <td>texas</td>\n",
       "      <td>courageous honest analysis need use atomic bom...</td>\n",
       "      <td>140</td>\n",
       "      <td>119</td>\n",
       "    </tr>\n",
       "    <tr>\n",
       "      <th>3263</th>\n",
       "      <td>engulfed</td>\n",
       "      <td>empty</td>\n",
       "      <td>zachzaidman 670thescore wld b shame golf cart ...</td>\n",
       "      <td>98</td>\n",
       "      <td>81</td>\n",
       "    </tr>\n",
       "    <tr>\n",
       "      <th>4907</th>\n",
       "      <td>massacre</td>\n",
       "      <td>cottonwood arizona</td>\n",
       "      <td>tell barackobama rescind medals honor given us...</td>\n",
       "      <td>143</td>\n",
       "      <td>108</td>\n",
       "    </tr>\n",
       "    <tr>\n",
       "      <th>2855</th>\n",
       "      <td>drought</td>\n",
       "      <td>spokane wa</td>\n",
       "      <td>worried ca drought might affect extreme weathe...</td>\n",
       "      <td>118</td>\n",
       "      <td>80</td>\n",
       "    </tr>\n",
       "    <tr>\n",
       "      <th>4716</th>\n",
       "      <td>lava</td>\n",
       "      <td>medanindonesia</td>\n",
       "      <td>youngheroesid lava blast amp power red panther...</td>\n",
       "      <td>82</td>\n",
       "      <td>76</td>\n",
       "    </tr>\n",
       "    <tr>\n",
       "      <th>7538</th>\n",
       "      <td>wreckage</td>\n",
       "      <td>empty</td>\n",
       "      <td>wreckage conclusively confirmed mh370 malaysia...</td>\n",
       "      <td>136</td>\n",
       "      <td>90</td>\n",
       "    </tr>\n",
       "    <tr>\n",
       "      <th>3172</th>\n",
       "      <td>emergency20plan</td>\n",
       "      <td>ireland</td>\n",
       "      <td>builder dental emergency ruined plan emotional...</td>\n",
       "      <td>124</td>\n",
       "      <td>73</td>\n",
       "    </tr>\n",
       "    <tr>\n",
       "      <th>3932</th>\n",
       "      <td>flood</td>\n",
       "      <td>empty</td>\n",
       "      <td>bmx issues areal flood advisory shelby al till...</td>\n",
       "      <td>93</td>\n",
       "      <td>81</td>\n",
       "    </tr>\n",
       "    <tr>\n",
       "      <th>5833</th>\n",
       "      <td>rubble</td>\n",
       "      <td>made detroit</td>\n",
       "      <td>360wisenews chinas stock market crash gems rub...</td>\n",
       "      <td>95</td>\n",
       "      <td>67</td>\n",
       "    </tr>\n",
       "    <tr>\n",
       "      <th>7173</th>\n",
       "      <td>war20zone</td>\n",
       "      <td>empty</td>\n",
       "      <td>robertoneill31 getting hit foul ball sitting h...</td>\n",
       "      <td>107</td>\n",
       "      <td>75</td>\n",
       "    </tr>\n",
       "    <tr>\n",
       "      <th>347</th>\n",
       "      <td>army</td>\n",
       "      <td>empty</td>\n",
       "      <td>one direction pick httptcoq2eblokeve fan army ...</td>\n",
       "      <td>103</td>\n",
       "      <td>82</td>\n",
       "    </tr>\n",
       "    <tr>\n",
       "      <th>6720</th>\n",
       "      <td>thunderstorm</td>\n",
       "      <td>asheville nc</td>\n",
       "      <td>inws alert spsgsp 852015 1040 pm 1115 pm edt p...</td>\n",
       "      <td>134</td>\n",
       "      <td>104</td>\n",
       "    </tr>\n",
       "    <tr>\n",
       "      <th>333</th>\n",
       "      <td>armageddon</td>\n",
       "      <td>orwellion policestate</td>\n",
       "      <td>sadly windows 10 reveals microsofts ethics arm...</td>\n",
       "      <td>81</td>\n",
       "      <td>71</td>\n",
       "    </tr>\n",
       "    <tr>\n",
       "      <th>4840</th>\n",
       "      <td>mass20murder</td>\n",
       "      <td>nashville tn</td>\n",
       "      <td>billy_hodge aurora theater shooting trial gunm...</td>\n",
       "      <td>126</td>\n",
       "      <td>110</td>\n",
       "    </tr>\n",
       "    <tr>\n",
       "      <th>5514</th>\n",
       "      <td>quarantined</td>\n",
       "      <td>karolinska vì_gen 18 solna</td>\n",
       "      <td>officials say quarantine place birmingham home...</td>\n",
       "      <td>133</td>\n",
       "      <td>96</td>\n",
       "    </tr>\n",
       "    <tr>\n",
       "      <th>1740</th>\n",
       "      <td>collision</td>\n",
       "      <td>soooota</td>\n",
       "      <td>zojadelin literally almost head collision us t...</td>\n",
       "      <td>83</td>\n",
       "      <td>61</td>\n",
       "    </tr>\n",
       "    <tr>\n",
       "      <th>6187</th>\n",
       "      <td>siren</td>\n",
       "      <td>az</td>\n",
       "      <td>connor franta damn sirens hope everyone okay d...</td>\n",
       "      <td>111</td>\n",
       "      <td>90</td>\n",
       "    </tr>\n",
       "    <tr>\n",
       "      <th>6660</th>\n",
       "      <td>threat</td>\n",
       "      <td>empty</td>\n",
       "      <td>end australiaûªs best burger httptcote5tdlyimn...</td>\n",
       "      <td>85</td>\n",
       "      <td>62</td>\n",
       "    </tr>\n",
       "    <tr>\n",
       "      <th>5865</th>\n",
       "      <td>ruin</td>\n",
       "      <td>boston</td>\n",
       "      <td>lol real issue way nfl trying ruin guys legacy...</td>\n",
       "      <td>102</td>\n",
       "      <td>65</td>\n",
       "    </tr>\n",
       "    <tr>\n",
       "      <th>7130</th>\n",
       "      <td>volcano</td>\n",
       "      <td>empty</td>\n",
       "      <td>maailiss diaporama sixpenceee karymsky lake cr...</td>\n",
       "      <td>142</td>\n",
       "      <td>114</td>\n",
       "    </tr>\n",
       "    <tr>\n",
       "      <th>3703</th>\n",
       "      <td>fear</td>\n",
       "      <td>empty</td>\n",
       "      <td>biggest fear disappointing people believe</td>\n",
       "      <td>61</td>\n",
       "      <td>41</td>\n",
       "    </tr>\n",
       "    <tr>\n",
       "      <th>2298</th>\n",
       "      <td>demolish</td>\n",
       "      <td>earth</td>\n",
       "      <td>first counter league game another orianna happ...</td>\n",
       "      <td>139</td>\n",
       "      <td>93</td>\n",
       "    </tr>\n",
       "    <tr>\n",
       "      <th>746</th>\n",
       "      <td>bleeding</td>\n",
       "      <td>alicante valencia</td>\n",
       "      <td>say bad things happen reason wise words gonna ...</td>\n",
       "      <td>80</td>\n",
       "      <td>62</td>\n",
       "    </tr>\n",
       "    <tr>\n",
       "      <th>5926</th>\n",
       "      <td>screamed</td>\n",
       "      <td>nirvana</td>\n",
       "      <td>cortezera dead ass screamed signed couldnt fuc...</td>\n",
       "      <td>79</td>\n",
       "      <td>58</td>\n",
       "    </tr>\n",
       "    <tr>\n",
       "      <th>7571</th>\n",
       "      <td>wrecked</td>\n",
       "      <td>glasgow</td>\n",
       "      <td>caitsroberts see u night wee barra get absolut...</td>\n",
       "      <td>70</td>\n",
       "      <td>57</td>\n",
       "    </tr>\n",
       "    <tr>\n",
       "      <th>6226</th>\n",
       "      <td>smoke</td>\n",
       "      <td>winnipeg mb canada</td>\n",
       "      <td>mentaltwitter note make sure smoke alarm batte...</td>\n",
       "      <td>136</td>\n",
       "      <td>105</td>\n",
       "    </tr>\n",
       "    <tr>\n",
       "      <th>4028</th>\n",
       "      <td>forest20fire</td>\n",
       "      <td>empty</td>\n",
       "      <td>hornybigbadwolf sets forest fire</td>\n",
       "      <td>42</td>\n",
       "      <td>32</td>\n",
       "    </tr>\n",
       "    <tr>\n",
       "      <th>4166</th>\n",
       "      <td>harm</td>\n",
       "      <td>10jul</td>\n",
       "      <td>wowsavannah whats harm theyre collectibles</td>\n",
       "      <td>51</td>\n",
       "      <td>42</td>\n",
       "    </tr>\n",
       "    <tr>\n",
       "      <th>1839</th>\n",
       "      <td>crashed</td>\n",
       "      <td>love smurfs 2</td>\n",
       "      <td>honestly nightmarish god driving new places al...</td>\n",
       "      <td>132</td>\n",
       "      <td>104</td>\n",
       "    </tr>\n",
       "    <tr>\n",
       "      <th>3893</th>\n",
       "      <td>flattened</td>\n",
       "      <td>empty</td>\n",
       "      <td>zouma flattened guy</td>\n",
       "      <td>31</td>\n",
       "      <td>19</td>\n",
       "    </tr>\n",
       "    <tr>\n",
       "      <th>3819</th>\n",
       "      <td>first20responders</td>\n",
       "      <td>new york city</td>\n",
       "      <td>added sandy first responders lost homes vip ho...</td>\n",
       "      <td>112</td>\n",
       "      <td>84</td>\n",
       "    </tr>\n",
       "    <tr>\n",
       "      <th>4250</th>\n",
       "      <td>heat20wave</td>\n",
       "      <td>usa</td>\n",
       "      <td>heat advisory effect 1 pm 7 pm thursday buildi...</td>\n",
       "      <td>136</td>\n",
       "      <td>101</td>\n",
       "    </tr>\n",
       "    <tr>\n",
       "      <th>2879</th>\n",
       "      <td>drought</td>\n",
       "      <td>macon georgia</td>\n",
       "      <td>moderate drought spreading rapidly across cent...</td>\n",
       "      <td>130</td>\n",
       "      <td>115</td>\n",
       "    </tr>\n",
       "    <tr>\n",
       "      <th>3608</th>\n",
       "      <td>fatal</td>\n",
       "      <td>play ryan</td>\n",
       "      <td>fatal attraction</td>\n",
       "      <td>16</td>\n",
       "      <td>16</td>\n",
       "    </tr>\n",
       "    <tr>\n",
       "      <th>2629</th>\n",
       "      <td>destruction</td>\n",
       "      <td></td>\n",
       "      <td>hassanrouhani wars doomed destruction loss mon...</td>\n",
       "      <td>108</td>\n",
       "      <td>84</td>\n",
       "    </tr>\n",
       "    <tr>\n",
       "      <th>259</th>\n",
       "      <td>annihilation</td>\n",
       "      <td>coolidge az</td>\n",
       "      <td>us national park services tonto national fores...</td>\n",
       "      <td>139</td>\n",
       "      <td>117</td>\n",
       "    </tr>\n",
       "    <tr>\n",
       "      <th>7274</th>\n",
       "      <td>whirlwind</td>\n",
       "      <td>orlando fl</td>\n",
       "      <td>mantra morning heading make whirlwind trip sou...</td>\n",
       "      <td>100</td>\n",
       "      <td>69</td>\n",
       "    </tr>\n",
       "    <tr>\n",
       "      <th>4072</th>\n",
       "      <td>hail</td>\n",
       "      <td>empty</td>\n",
       "      <td>np avenged sevenfold hail king</td>\n",
       "      <td>40</td>\n",
       "      <td>30</td>\n",
       "    </tr>\n",
       "    <tr>\n",
       "      <th>380</th>\n",
       "      <td>arson</td>\n",
       "      <td>empty</td>\n",
       "      <td>two jewish terrorists charged historicchurch a...</td>\n",
       "      <td>117</td>\n",
       "      <td>97</td>\n",
       "    </tr>\n",
       "    <tr>\n",
       "      <th>3535</th>\n",
       "      <td>eyewitness</td>\n",
       "      <td>empty</td>\n",
       "      <td>dk eyewitness travel guide denmark travel guid...</td>\n",
       "      <td>113</td>\n",
       "      <td>88</td>\n",
       "    </tr>\n",
       "    <tr>\n",
       "      <th>5433</th>\n",
       "      <td>police</td>\n",
       "      <td>indonesia</td>\n",
       "      <td>police kill hatchetwielding gunman opened fire...</td>\n",
       "      <td>138</td>\n",
       "      <td>123</td>\n",
       "    </tr>\n",
       "    <tr>\n",
       "      <th>4657</th>\n",
       "      <td>inundated</td>\n",
       "      <td>manchester england</td>\n",
       "      <td>teahivetweets would get inundated</td>\n",
       "      <td>40</td>\n",
       "      <td>33</td>\n",
       "    </tr>\n",
       "    <tr>\n",
       "      <th>599</th>\n",
       "      <td>bioterror</td>\n",
       "      <td>arkansas jonesboro</td>\n",
       "      <td>usatoday todays frontpage bioterror lab faced ...</td>\n",
       "      <td>140</td>\n",
       "      <td>115</td>\n",
       "    </tr>\n",
       "    <tr>\n",
       "      <th>45</th>\n",
       "      <td>ablaze</td>\n",
       "      <td>empty</td>\n",
       "      <td>gained 3 followers last week know stats grow h...</td>\n",
       "      <td>96</td>\n",
       "      <td>62</td>\n",
       "    </tr>\n",
       "    <tr>\n",
       "      <th>3912</th>\n",
       "      <td>flood</td>\n",
       "      <td>united states</td>\n",
       "      <td>jkl cancels flash flood warning bell harlan kn...</td>\n",
       "      <td>85</td>\n",
       "      <td>72</td>\n",
       "    </tr>\n",
       "    <tr>\n",
       "      <th>4912</th>\n",
       "      <td>massacre</td>\n",
       "      <td>norway</td>\n",
       "      <td>creepiest youth camp ever httptcot8uqm7imir</td>\n",
       "      <td>62</td>\n",
       "      <td>43</td>\n",
       "    </tr>\n",
       "    <tr>\n",
       "      <th>5738</th>\n",
       "      <td>rescuer</td>\n",
       "      <td>paris france</td>\n",
       "      <td>rescuers recover body 37yearold calgary man la...</td>\n",
       "      <td>140</td>\n",
       "      <td>81</td>\n",
       "    </tr>\n",
       "    <tr>\n",
       "      <th>3025</th>\n",
       "      <td>dust20storm</td>\n",
       "      <td>empty</td>\n",
       "      <td>severe storm weakening moves se towards lubboc...</td>\n",
       "      <td>133</td>\n",
       "      <td>116</td>\n",
       "    </tr>\n",
       "    <tr>\n",
       "      <th>4184</th>\n",
       "      <td>hazard</td>\n",
       "      <td>arizona</td>\n",
       "      <td>get hazard pay</td>\n",
       "      <td>19</td>\n",
       "      <td>14</td>\n",
       "    </tr>\n",
       "    <tr>\n",
       "      <th>4160</th>\n",
       "      <td>harm</td>\n",
       "      <td>england</td>\n",
       "      <td>vilelunar trickshot regular controller fucking...</td>\n",
       "      <td>90</td>\n",
       "      <td>70</td>\n",
       "    </tr>\n",
       "  </tbody>\n",
       "</table>\n",
       "</div>"
      ],
      "text/plain": [
       "                keyword                    location  \\\n",
       "4996           military                       texas   \n",
       "3263           engulfed                       empty   \n",
       "4907           massacre          cottonwood arizona   \n",
       "2855            drought                  spokane wa   \n",
       "4716               lava              medanindonesia   \n",
       "7538           wreckage                       empty   \n",
       "3172    emergency20plan                     ireland   \n",
       "3932              flood                       empty   \n",
       "5833             rubble                made detroit   \n",
       "7173          war20zone                       empty   \n",
       "347                army                       empty   \n",
       "6720       thunderstorm                asheville nc   \n",
       "333          armageddon       orwellion policestate   \n",
       "4840       mass20murder                nashville tn   \n",
       "5514        quarantined  karolinska vì_gen 18 solna   \n",
       "1740          collision                     soooota   \n",
       "6187              siren                          az   \n",
       "6660             threat                       empty   \n",
       "5865               ruin                      boston   \n",
       "7130            volcano                       empty   \n",
       "3703               fear                       empty   \n",
       "2298           demolish                       earth   \n",
       "746            bleeding           alicante valencia   \n",
       "5926           screamed                     nirvana   \n",
       "7571            wrecked                     glasgow   \n",
       "6226              smoke          winnipeg mb canada   \n",
       "4028       forest20fire                       empty   \n",
       "4166               harm                       10jul   \n",
       "1839            crashed               love smurfs 2   \n",
       "3893          flattened                       empty   \n",
       "3819  first20responders               new york city   \n",
       "4250         heat20wave                         usa   \n",
       "2879            drought               macon georgia   \n",
       "3608              fatal                   play ryan   \n",
       "2629        destruction                               \n",
       "259        annihilation                 coolidge az   \n",
       "7274          whirlwind                  orlando fl   \n",
       "4072               hail                       empty   \n",
       "380               arson                       empty   \n",
       "3535         eyewitness                       empty   \n",
       "5433             police                   indonesia   \n",
       "4657          inundated          manchester england   \n",
       "599           bioterror          arkansas jonesboro   \n",
       "45               ablaze                       empty   \n",
       "3912              flood               united states   \n",
       "4912           massacre                      norway   \n",
       "5738            rescuer                paris france   \n",
       "3025        dust20storm                       empty   \n",
       "4184             hazard                     arizona   \n",
       "4160               harm                     england   \n",
       "\n",
       "                                                   text  text_length  \\\n",
       "4996  courageous honest analysis need use atomic bom...          140   \n",
       "3263  zachzaidman 670thescore wld b shame golf cart ...           98   \n",
       "4907  tell barackobama rescind medals honor given us...          143   \n",
       "2855  worried ca drought might affect extreme weathe...          118   \n",
       "4716  youngheroesid lava blast amp power red panther...           82   \n",
       "7538  wreckage conclusively confirmed mh370 malaysia...          136   \n",
       "3172  builder dental emergency ruined plan emotional...          124   \n",
       "3932  bmx issues areal flood advisory shelby al till...           93   \n",
       "5833  360wisenews chinas stock market crash gems rub...           95   \n",
       "7173  robertoneill31 getting hit foul ball sitting h...          107   \n",
       "347   one direction pick httptcoq2eblokeve fan army ...          103   \n",
       "6720  inws alert spsgsp 852015 1040 pm 1115 pm edt p...          134   \n",
       "333   sadly windows 10 reveals microsofts ethics arm...           81   \n",
       "4840  billy_hodge aurora theater shooting trial gunm...          126   \n",
       "5514  officials say quarantine place birmingham home...          133   \n",
       "1740  zojadelin literally almost head collision us t...           83   \n",
       "6187  connor franta damn sirens hope everyone okay d...          111   \n",
       "6660  end australiaûªs best burger httptcote5tdlyimn...           85   \n",
       "5865  lol real issue way nfl trying ruin guys legacy...          102   \n",
       "7130  maailiss diaporama sixpenceee karymsky lake cr...          142   \n",
       "3703          biggest fear disappointing people believe           61   \n",
       "2298  first counter league game another orianna happ...          139   \n",
       "746   say bad things happen reason wise words gonna ...           80   \n",
       "5926  cortezera dead ass screamed signed couldnt fuc...           79   \n",
       "7571  caitsroberts see u night wee barra get absolut...           70   \n",
       "6226  mentaltwitter note make sure smoke alarm batte...          136   \n",
       "4028                   hornybigbadwolf sets forest fire           42   \n",
       "4166         wowsavannah whats harm theyre collectibles           51   \n",
       "1839  honestly nightmarish god driving new places al...          132   \n",
       "3893                                zouma flattened guy           31   \n",
       "3819  added sandy first responders lost homes vip ho...          112   \n",
       "4250  heat advisory effect 1 pm 7 pm thursday buildi...          136   \n",
       "2879  moderate drought spreading rapidly across cent...          130   \n",
       "3608                                   fatal attraction           16   \n",
       "2629  hassanrouhani wars doomed destruction loss mon...          108   \n",
       "259   us national park services tonto national fores...          139   \n",
       "7274  mantra morning heading make whirlwind trip sou...          100   \n",
       "4072                     np avenged sevenfold hail king           40   \n",
       "380   two jewish terrorists charged historicchurch a...          117   \n",
       "3535  dk eyewitness travel guide denmark travel guid...          113   \n",
       "5433  police kill hatchetwielding gunman opened fire...          138   \n",
       "4657                  teahivetweets would get inundated           40   \n",
       "599   usatoday todays frontpage bioterror lab faced ...          140   \n",
       "45    gained 3 followers last week know stats grow h...           96   \n",
       "3912  jkl cancels flash flood warning bell harlan kn...           85   \n",
       "4912        creepiest youth camp ever httptcot8uqm7imir           62   \n",
       "5738  rescuers recover body 37yearold calgary man la...          140   \n",
       "3025  severe storm weakening moves se towards lubboc...          133   \n",
       "4184                                     get hazard pay           19   \n",
       "4160  vilelunar trickshot regular controller fucking...           90   \n",
       "\n",
       "      post_text_length  \n",
       "4996               119  \n",
       "3263                81  \n",
       "4907               108  \n",
       "2855                80  \n",
       "4716                76  \n",
       "7538                90  \n",
       "3172                73  \n",
       "3932                81  \n",
       "5833                67  \n",
       "7173                75  \n",
       "347                 82  \n",
       "6720               104  \n",
       "333                 71  \n",
       "4840               110  \n",
       "5514                96  \n",
       "1740                61  \n",
       "6187                90  \n",
       "6660                62  \n",
       "5865                65  \n",
       "7130               114  \n",
       "3703                41  \n",
       "2298                93  \n",
       "746                 62  \n",
       "5926                58  \n",
       "7571                57  \n",
       "6226               105  \n",
       "4028                32  \n",
       "4166                42  \n",
       "1839               104  \n",
       "3893                19  \n",
       "3819                84  \n",
       "4250               101  \n",
       "2879               115  \n",
       "3608                16  \n",
       "2629                84  \n",
       "259                117  \n",
       "7274                69  \n",
       "4072                30  \n",
       "380                 97  \n",
       "3535                88  \n",
       "5433               123  \n",
       "4657                33  \n",
       "599                115  \n",
       "45                  62  \n",
       "3912                72  \n",
       "4912                43  \n",
       "5738                81  \n",
       "3025               116  \n",
       "4184                14  \n",
       "4160                70  "
      ]
     },
     "execution_count": 31,
     "metadata": {},
     "output_type": "execute_result"
    }
   ],
   "source": [
    "X_train.head(50)"
   ]
  },
  {
   "cell_type": "markdown",
   "id": "b14f1a9d",
   "metadata": {
    "papermill": {
     "duration": 0.027454,
     "end_time": "2024-02-13T02:34:37.018568",
     "exception": false,
     "start_time": "2024-02-13T02:34:36.991114",
     "status": "completed"
    },
    "tags": []
   },
   "source": [
    "## Transform to CountVectorizer"
   ]
  },
  {
   "cell_type": "code",
   "execution_count": 32,
   "id": "bc22e756",
   "metadata": {
    "execution": {
     "iopub.execute_input": "2024-02-13T02:34:37.076649Z",
     "iopub.status.busy": "2024-02-13T02:34:37.076184Z",
     "iopub.status.idle": "2024-02-13T02:34:37.505398Z",
     "shell.execute_reply": "2024-02-13T02:34:37.504061Z"
    },
    "papermill": {
     "duration": 0.461641,
     "end_time": "2024-02-13T02:34:37.507896",
     "exception": false,
     "start_time": "2024-02-13T02:34:37.046255",
     "status": "completed"
    },
    "tags": []
   },
   "outputs": [
    {
     "name": "stdout",
     "output_type": "stream",
     "text": [
      "<class 'pandas.core.frame.DataFrame'>\n",
      "<class 'numpy.ndarray'>\n"
     ]
    },
    {
     "data": {
      "text/html": [
       "<div>\n",
       "<style scoped>\n",
       "    .dataframe tbody tr th:only-of-type {\n",
       "        vertical-align: middle;\n",
       "    }\n",
       "\n",
       "    .dataframe tbody tr th {\n",
       "        vertical-align: top;\n",
       "    }\n",
       "\n",
       "    .dataframe thead th {\n",
       "        text-align: right;\n",
       "    }\n",
       "</style>\n",
       "<table border=\"1\" class=\"dataframe\">\n",
       "  <thead>\n",
       "    <tr style=\"text-align: right;\">\n",
       "      <th></th>\n",
       "      <th>010401</th>\n",
       "      <th>05</th>\n",
       "      <th>06</th>\n",
       "      <th>10</th>\n",
       "      <th>100</th>\n",
       "      <th>1000</th>\n",
       "      <th>101</th>\n",
       "      <th>11</th>\n",
       "      <th>11yearold</th>\n",
       "      <th>12</th>\n",
       "      <th>...</th>\n",
       "      <th>zionist</th>\n",
       "      <th>zombie</th>\n",
       "      <th>zone</th>\n",
       "      <th>åè</th>\n",
       "      <th>åê</th>\n",
       "      <th>û_</th>\n",
       "      <th>ûpolitics</th>\n",
       "      <th>ûïwhen</th>\n",
       "      <th>ûò</th>\n",
       "      <th>ûó</th>\n",
       "    </tr>\n",
       "  </thead>\n",
       "  <tbody>\n",
       "    <tr>\n",
       "      <th>0</th>\n",
       "      <td>0</td>\n",
       "      <td>0</td>\n",
       "      <td>0</td>\n",
       "      <td>0</td>\n",
       "      <td>0</td>\n",
       "      <td>0</td>\n",
       "      <td>0</td>\n",
       "      <td>0</td>\n",
       "      <td>0</td>\n",
       "      <td>0</td>\n",
       "      <td>...</td>\n",
       "      <td>0</td>\n",
       "      <td>0</td>\n",
       "      <td>0</td>\n",
       "      <td>0</td>\n",
       "      <td>0</td>\n",
       "      <td>0</td>\n",
       "      <td>0</td>\n",
       "      <td>0</td>\n",
       "      <td>0</td>\n",
       "      <td>0</td>\n",
       "    </tr>\n",
       "    <tr>\n",
       "      <th>1</th>\n",
       "      <td>0</td>\n",
       "      <td>0</td>\n",
       "      <td>0</td>\n",
       "      <td>0</td>\n",
       "      <td>0</td>\n",
       "      <td>0</td>\n",
       "      <td>0</td>\n",
       "      <td>0</td>\n",
       "      <td>0</td>\n",
       "      <td>0</td>\n",
       "      <td>...</td>\n",
       "      <td>0</td>\n",
       "      <td>0</td>\n",
       "      <td>0</td>\n",
       "      <td>0</td>\n",
       "      <td>0</td>\n",
       "      <td>0</td>\n",
       "      <td>0</td>\n",
       "      <td>0</td>\n",
       "      <td>0</td>\n",
       "      <td>0</td>\n",
       "    </tr>\n",
       "    <tr>\n",
       "      <th>2</th>\n",
       "      <td>0</td>\n",
       "      <td>0</td>\n",
       "      <td>0</td>\n",
       "      <td>0</td>\n",
       "      <td>0</td>\n",
       "      <td>0</td>\n",
       "      <td>0</td>\n",
       "      <td>0</td>\n",
       "      <td>0</td>\n",
       "      <td>0</td>\n",
       "      <td>...</td>\n",
       "      <td>0</td>\n",
       "      <td>0</td>\n",
       "      <td>0</td>\n",
       "      <td>0</td>\n",
       "      <td>0</td>\n",
       "      <td>0</td>\n",
       "      <td>0</td>\n",
       "      <td>0</td>\n",
       "      <td>0</td>\n",
       "      <td>0</td>\n",
       "    </tr>\n",
       "    <tr>\n",
       "      <th>3</th>\n",
       "      <td>0</td>\n",
       "      <td>0</td>\n",
       "      <td>0</td>\n",
       "      <td>0</td>\n",
       "      <td>0</td>\n",
       "      <td>0</td>\n",
       "      <td>0</td>\n",
       "      <td>0</td>\n",
       "      <td>0</td>\n",
       "      <td>0</td>\n",
       "      <td>...</td>\n",
       "      <td>0</td>\n",
       "      <td>0</td>\n",
       "      <td>0</td>\n",
       "      <td>0</td>\n",
       "      <td>0</td>\n",
       "      <td>0</td>\n",
       "      <td>0</td>\n",
       "      <td>0</td>\n",
       "      <td>0</td>\n",
       "      <td>0</td>\n",
       "    </tr>\n",
       "    <tr>\n",
       "      <th>4</th>\n",
       "      <td>0</td>\n",
       "      <td>0</td>\n",
       "      <td>0</td>\n",
       "      <td>0</td>\n",
       "      <td>0</td>\n",
       "      <td>0</td>\n",
       "      <td>0</td>\n",
       "      <td>0</td>\n",
       "      <td>0</td>\n",
       "      <td>0</td>\n",
       "      <td>...</td>\n",
       "      <td>0</td>\n",
       "      <td>0</td>\n",
       "      <td>0</td>\n",
       "      <td>0</td>\n",
       "      <td>0</td>\n",
       "      <td>0</td>\n",
       "      <td>0</td>\n",
       "      <td>0</td>\n",
       "      <td>0</td>\n",
       "      <td>0</td>\n",
       "    </tr>\n",
       "  </tbody>\n",
       "</table>\n",
       "<p>5 rows × 3000 columns</p>\n",
       "</div>"
      ],
      "text/plain": [
       "   010401  05  06  10  100  1000  101  11  11yearold  12  ...  zionist  \\\n",
       "0       0   0   0   0    0     0    0   0          0   0  ...        0   \n",
       "1       0   0   0   0    0     0    0   0          0   0  ...        0   \n",
       "2       0   0   0   0    0     0    0   0          0   0  ...        0   \n",
       "3       0   0   0   0    0     0    0   0          0   0  ...        0   \n",
       "4       0   0   0   0    0     0    0   0          0   0  ...        0   \n",
       "\n",
       "   zombie  zone  åè  åê  û_  ûpolitics  ûïwhen  ûò  ûó  \n",
       "0       0     0   0   0   0          0       0   0   0  \n",
       "1       0     0   0   0   0          0       0   0   0  \n",
       "2       0     0   0   0   0          0       0   0   0  \n",
       "3       0     0   0   0   0          0       0   0   0  \n",
       "4       0     0   0   0   0          0       0   0   0  \n",
       "\n",
       "[5 rows x 3000 columns]"
      ]
     },
     "execution_count": 32,
     "metadata": {},
     "output_type": "execute_result"
    }
   ],
   "source": [
    "#import count_vectorizer\n",
    "from sklearn.feature_extraction.text import CountVectorizer\n",
    "cv = CountVectorizer(max_features=3000)\n",
    "\n",
    "cv.fit(X_train['text'])\n",
    "X_train_cv = cv.transform(X_train['text']).toarray()\n",
    "X_test_cv = cv.transform(X_test['text']).toarray()\n",
    "\n",
    "print(type(X_train))\n",
    "print(type(X_train_cv))\n",
    "\n",
    "train_with_cv = pd.DataFrame(X_train_cv, columns= cv.get_feature_names_out())\n",
    "train_with_cv.head()"
   ]
  },
  {
   "cell_type": "markdown",
   "id": "3e4efba4",
   "metadata": {
    "papermill": {
     "duration": 0.028285,
     "end_time": "2024-02-13T02:34:37.563670",
     "exception": false,
     "start_time": "2024-02-13T02:34:37.535385",
     "status": "completed"
    },
    "tags": []
   },
   "source": [
    "## Build Model"
   ]
  },
  {
   "cell_type": "code",
   "execution_count": 33,
   "id": "2ca87f33",
   "metadata": {
    "execution": {
     "iopub.execute_input": "2024-02-13T02:34:37.624099Z",
     "iopub.status.busy": "2024-02-13T02:34:37.622312Z",
     "iopub.status.idle": "2024-02-13T02:34:38.283959Z",
     "shell.execute_reply": "2024-02-13T02:34:38.282684Z"
    },
    "papermill": {
     "duration": 0.697118,
     "end_time": "2024-02-13T02:34:38.289584",
     "exception": false,
     "start_time": "2024-02-13T02:34:37.592466",
     "status": "completed"
    },
    "tags": []
   },
   "outputs": [
    {
     "name": "stdout",
     "output_type": "stream",
     "text": [
      "Train Report ---\n",
      "              precision    recall  f1-score   support\n",
      "\n",
      "           0       0.84      0.91      0.88      3468\n",
      "           1       0.87      0.77      0.82      2622\n",
      "\n",
      "    accuracy                           0.85      6090\n",
      "   macro avg       0.86      0.84      0.85      6090\n",
      "weighted avg       0.85      0.85      0.85      6090\n",
      "\n",
      "Validation Report ---\n",
      "              precision    recall  f1-score   support\n",
      "\n",
      "           0       0.80      0.86      0.83       874\n",
      "           1       0.79      0.70      0.74       649\n",
      "\n",
      "    accuracy                           0.79      1523\n",
      "   macro avg       0.79      0.78      0.79      1523\n",
      "weighted avg       0.79      0.79      0.79      1523\n",
      "\n"
     ]
    }
   ],
   "source": [
    "#import libraries and fit model \n",
    "from sklearn.naive_bayes import MultinomialNB\n",
    "nb=MultinomialNB().fit(X_train_cv,y_train)\n",
    "\n",
    "y_train_pred = nb.predict(X_train_cv)\n",
    "y_test_pred = nb.predict(X_test_cv)\n",
    "\n",
    "print('Train Report ---')\n",
    "print(classification_report(y_train, y_train_pred))\n",
    "\n",
    "print('Validation Report ---')\n",
    "print(classification_report(y_test, y_test_pred))"
   ]
  },
  {
   "cell_type": "markdown",
   "id": "ed7c3504",
   "metadata": {
    "papermill": {
     "duration": 0.027831,
     "end_time": "2024-02-13T02:34:38.373532",
     "exception": false,
     "start_time": "2024-02-13T02:34:38.345701",
     "status": "completed"
    },
    "tags": []
   },
   "source": [
    "## Write a code to build Logistic Regression Model"
   ]
  },
  {
   "cell_type": "code",
   "execution_count": 34,
   "id": "7cabf8ab",
   "metadata": {
    "execution": {
     "iopub.execute_input": "2024-02-13T02:34:38.431783Z",
     "iopub.status.busy": "2024-02-13T02:34:38.431330Z",
     "iopub.status.idle": "2024-02-13T02:34:39.980983Z",
     "shell.execute_reply": "2024-02-13T02:34:39.979413Z"
    },
    "papermill": {
     "duration": 1.58507,
     "end_time": "2024-02-13T02:34:39.986639",
     "exception": false,
     "start_time": "2024-02-13T02:34:38.401569",
     "status": "completed"
    },
    "tags": []
   },
   "outputs": [
    {
     "name": "stdout",
     "output_type": "stream",
     "text": [
      "\n",
      "Logistic Regression Model:\n",
      "Accuracy: 0.793827971109652\n",
      "Classification Report:\n",
      "               precision    recall  f1-score   support\n",
      "\n",
      "           0       0.80      0.86      0.83       874\n",
      "           1       0.79      0.70      0.74       649\n",
      "\n",
      "    accuracy                           0.79      1523\n",
      "   macro avg       0.79      0.78      0.79      1523\n",
      "weighted avg       0.79      0.79      0.79      1523\n",
      "\n"
     ]
    },
    {
     "data": {
      "text/html": [
       "<div>\n",
       "<style scoped>\n",
       "    .dataframe tbody tr th:only-of-type {\n",
       "        vertical-align: middle;\n",
       "    }\n",
       "\n",
       "    .dataframe tbody tr th {\n",
       "        vertical-align: top;\n",
       "    }\n",
       "\n",
       "    .dataframe thead th {\n",
       "        text-align: right;\n",
       "    }\n",
       "</style>\n",
       "<table border=\"1\" class=\"dataframe\">\n",
       "  <thead>\n",
       "    <tr style=\"text-align: right;\">\n",
       "      <th></th>\n",
       "      <th>0</th>\n",
       "    </tr>\n",
       "  </thead>\n",
       "  <tbody>\n",
       "    <tr>\n",
       "      <th>0</th>\n",
       "      <td>0</td>\n",
       "    </tr>\n",
       "    <tr>\n",
       "      <th>1</th>\n",
       "      <td>0</td>\n",
       "    </tr>\n",
       "    <tr>\n",
       "      <th>2</th>\n",
       "      <td>0</td>\n",
       "    </tr>\n",
       "    <tr>\n",
       "      <th>3</th>\n",
       "      <td>0</td>\n",
       "    </tr>\n",
       "    <tr>\n",
       "      <th>4</th>\n",
       "      <td>0</td>\n",
       "    </tr>\n",
       "  </tbody>\n",
       "</table>\n",
       "</div>"
      ],
      "text/plain": [
       "   0\n",
       "0  0\n",
       "1  0\n",
       "2  0\n",
       "3  0\n",
       "4  0"
      ]
     },
     "execution_count": 34,
     "metadata": {},
     "output_type": "execute_result"
    }
   ],
   "source": [
    "from sklearn.linear_model import LogisticRegression\n",
    "from sklearn.metrics import accuracy_score, classification_report\n",
    "\n",
    "# Build and train Logistic Regression Model\n",
    "logistic_model = LogisticRegression()\n",
    "logistic_model.fit(X_train_cv, y_train)\n",
    "\n",
    "# Predictions\n",
    "logistic_predictions = logistic_model.predict(X_test_cv)\n",
    "\n",
    "# Model Evaluation\n",
    "print(\"\\nLogistic Regression Model:\")\n",
    "print(\"Accuracy:\", accuracy_score(y_test, logistic_predictions))\n",
    "print(\"Classification Report:\\n\", classification_report(y_test, logistic_predictions))\n",
    "\n",
    "pred = pd.DataFrame(data=logistic_predictions)\n",
    "pred.head()"
   ]
  },
  {
   "cell_type": "markdown",
   "id": "f3374b10",
   "metadata": {
    "papermill": {
     "duration": 0.031623,
     "end_time": "2024-02-13T02:34:40.082778",
     "exception": false,
     "start_time": "2024-02-13T02:34:40.051155",
     "status": "completed"
    },
    "tags": []
   },
   "source": [
    "## Write a code to build Decision Tree Model"
   ]
  },
  {
   "cell_type": "code",
   "execution_count": 35,
   "id": "c36f518b",
   "metadata": {
    "execution": {
     "iopub.execute_input": "2024-02-13T02:34:40.145446Z",
     "iopub.status.busy": "2024-02-13T02:34:40.144938Z",
     "iopub.status.idle": "2024-02-13T02:35:26.222052Z",
     "shell.execute_reply": "2024-02-13T02:35:26.220909Z"
    },
    "papermill": {
     "duration": 46.138796,
     "end_time": "2024-02-13T02:35:26.252896",
     "exception": false,
     "start_time": "2024-02-13T02:34:40.114100",
     "status": "completed"
    },
    "tags": []
   },
   "outputs": [
    {
     "name": "stdout",
     "output_type": "stream",
     "text": [
      "\n",
      "Decision Tree Model:\n",
      "Accuracy: 0.7189757058437295\n",
      "Classification Report:\n",
      "               precision    recall  f1-score   support\n",
      "\n",
      "           0       0.76      0.75      0.75       874\n",
      "           1       0.67      0.68      0.67       649\n",
      "\n",
      "    accuracy                           0.72      1523\n",
      "   macro avg       0.71      0.71      0.71      1523\n",
      "weighted avg       0.72      0.72      0.72      1523\n",
      "\n"
     ]
    }
   ],
   "source": [
    "from sklearn.tree import DecisionTreeClassifier\n",
    "\n",
    "# Build and train Decision Tree Model\n",
    "dt_model = DecisionTreeClassifier()\n",
    "dt_model.fit(X_train_cv, y_train)\n",
    "\n",
    "# Predictions\n",
    "dt_predictions = dt_model.predict(X_test_cv)\n",
    "\n",
    "# Model Evaluation\n",
    "print(\"\\nDecision Tree Model:\")\n",
    "print(\"Accuracy:\", accuracy_score(y_test, dt_predictions))\n",
    "print(\"Classification Report:\\n\", classification_report(y_test, dt_predictions))"
   ]
  },
  {
   "cell_type": "markdown",
   "id": "43cf127f",
   "metadata": {
    "papermill": {
     "duration": 0.028114,
     "end_time": "2024-02-13T02:35:26.309501",
     "exception": false,
     "start_time": "2024-02-13T02:35:26.281387",
     "status": "completed"
    },
    "tags": []
   },
   "source": [
    "## Write a code to build Random Forest Model"
   ]
  },
  {
   "cell_type": "code",
   "execution_count": 36,
   "id": "af213b5f",
   "metadata": {
    "execution": {
     "iopub.execute_input": "2024-02-13T02:35:26.368538Z",
     "iopub.status.busy": "2024-02-13T02:35:26.368067Z",
     "iopub.status.idle": "2024-02-13T02:36:10.317791Z",
     "shell.execute_reply": "2024-02-13T02:36:10.315823Z"
    },
    "papermill": {
     "duration": 44.010764,
     "end_time": "2024-02-13T02:36:10.348662",
     "exception": false,
     "start_time": "2024-02-13T02:35:26.337898",
     "status": "completed"
    },
    "tags": []
   },
   "outputs": [
    {
     "name": "stdout",
     "output_type": "stream",
     "text": [
      "\n",
      "Random Forest Model:\n",
      "Accuracy: 0.7518056467498359\n",
      "Classification Report:\n",
      "               precision    recall  f1-score   support\n",
      "\n",
      "           0       0.78      0.79      0.79       874\n",
      "           1       0.71      0.70      0.71       649\n",
      "\n",
      "    accuracy                           0.75      1523\n",
      "   macro avg       0.75      0.74      0.75      1523\n",
      "weighted avg       0.75      0.75      0.75      1523\n",
      "\n"
     ]
    }
   ],
   "source": [
    "from sklearn.ensemble import RandomForestClassifier\n",
    "\n",
    "# Build and train Random Forest Model\n",
    "rf_model = RandomForestClassifier()\n",
    "rf_model.fit(X_train_cv, y_train)\n",
    "\n",
    "# Predictions\n",
    "rf_predictions = rf_model.predict(X_test_cv)\n",
    "\n",
    "# Model Evaluation\n",
    "print(\"\\nRandom Forest Model:\")\n",
    "print(\"Accuracy:\", accuracy_score(y_test, rf_predictions))\n",
    "print(\"Classification Report:\\n\", classification_report(y_test, rf_predictions))"
   ]
  },
  {
   "cell_type": "markdown",
   "id": "cd6d4599",
   "metadata": {
    "papermill": {
     "duration": 0.028486,
     "end_time": "2024-02-13T02:36:10.406306",
     "exception": false,
     "start_time": "2024-02-13T02:36:10.377820",
     "status": "completed"
    },
    "tags": []
   },
   "source": [
    "## Choose the best model and build model again"
   ]
  },
  {
   "cell_type": "code",
   "execution_count": 37,
   "id": "fced7857",
   "metadata": {
    "execution": {
     "iopub.execute_input": "2024-02-13T02:36:10.466798Z",
     "iopub.status.busy": "2024-02-13T02:36:10.465670Z",
     "iopub.status.idle": "2024-02-13T02:36:10.509859Z",
     "shell.execute_reply": "2024-02-13T02:36:10.508598Z"
    },
    "papermill": {
     "duration": 0.077131,
     "end_time": "2024-02-13T02:36:10.512190",
     "exception": false,
     "start_time": "2024-02-13T02:36:10.435059",
     "status": "completed"
    },
    "tags": []
   },
   "outputs": [
    {
     "data": {
      "text/html": [
       "<div>\n",
       "<style scoped>\n",
       "    .dataframe tbody tr th:only-of-type {\n",
       "        vertical-align: middle;\n",
       "    }\n",
       "\n",
       "    .dataframe tbody tr th {\n",
       "        vertical-align: top;\n",
       "    }\n",
       "\n",
       "    .dataframe thead th {\n",
       "        text-align: right;\n",
       "    }\n",
       "</style>\n",
       "<table border=\"1\" class=\"dataframe\">\n",
       "  <thead>\n",
       "    <tr style=\"text-align: right;\">\n",
       "      <th></th>\n",
       "      <th>id</th>\n",
       "      <th>keyword</th>\n",
       "      <th>location</th>\n",
       "      <th>text</th>\n",
       "    </tr>\n",
       "  </thead>\n",
       "  <tbody>\n",
       "    <tr>\n",
       "      <th>0</th>\n",
       "      <td>0</td>\n",
       "      <td>NaN</td>\n",
       "      <td>NaN</td>\n",
       "      <td>Just happened a terrible car crash</td>\n",
       "    </tr>\n",
       "    <tr>\n",
       "      <th>1</th>\n",
       "      <td>2</td>\n",
       "      <td>NaN</td>\n",
       "      <td>NaN</td>\n",
       "      <td>Heard about #earthquake is different cities, s...</td>\n",
       "    </tr>\n",
       "    <tr>\n",
       "      <th>2</th>\n",
       "      <td>3</td>\n",
       "      <td>NaN</td>\n",
       "      <td>NaN</td>\n",
       "      <td>there is a forest fire at spot pond, geese are...</td>\n",
       "    </tr>\n",
       "    <tr>\n",
       "      <th>3</th>\n",
       "      <td>9</td>\n",
       "      <td>NaN</td>\n",
       "      <td>NaN</td>\n",
       "      <td>Apocalypse lighting. #Spokane #wildfires</td>\n",
       "    </tr>\n",
       "    <tr>\n",
       "      <th>4</th>\n",
       "      <td>11</td>\n",
       "      <td>NaN</td>\n",
       "      <td>NaN</td>\n",
       "      <td>Typhoon Soudelor kills 28 in China and Taiwan</td>\n",
       "    </tr>\n",
       "  </tbody>\n",
       "</table>\n",
       "</div>"
      ],
      "text/plain": [
       "   id keyword location                                               text\n",
       "0   0     NaN      NaN                 Just happened a terrible car crash\n",
       "1   2     NaN      NaN  Heard about #earthquake is different cities, s...\n",
       "2   3     NaN      NaN  there is a forest fire at spot pond, geese are...\n",
       "3   9     NaN      NaN           Apocalypse lighting. #Spokane #wildfires\n",
       "4  11     NaN      NaN      Typhoon Soudelor kills 28 in China and Taiwan"
      ]
     },
     "execution_count": 37,
     "metadata": {},
     "output_type": "execute_result"
    }
   ],
   "source": [
    "df1 = pd.read_csv('/kaggle/input/ipba-17-nlp-with-disaster-tweets-2024/test.csv')\n",
    "df1.head()"
   ]
  },
  {
   "cell_type": "code",
   "execution_count": 38,
   "id": "3806ce2f",
   "metadata": {
    "execution": {
     "iopub.execute_input": "2024-02-13T02:36:10.573162Z",
     "iopub.status.busy": "2024-02-13T02:36:10.572694Z",
     "iopub.status.idle": "2024-02-13T02:36:10.589099Z",
     "shell.execute_reply": "2024-02-13T02:36:10.587522Z"
    },
    "papermill": {
     "duration": 0.050194,
     "end_time": "2024-02-13T02:36:10.591797",
     "exception": false,
     "start_time": "2024-02-13T02:36:10.541603",
     "status": "completed"
    },
    "tags": []
   },
   "outputs": [
    {
     "name": "stdout",
     "output_type": "stream",
     "text": [
      "<class 'pandas.core.frame.DataFrame'>\n",
      "RangeIndex: 3263 entries, 0 to 3262\n",
      "Data columns (total 4 columns):\n",
      " #   Column    Non-Null Count  Dtype \n",
      "---  ------    --------------  ----- \n",
      " 0   id        3263 non-null   int64 \n",
      " 1   keyword   3237 non-null   object\n",
      " 2   location  2158 non-null   object\n",
      " 3   text      3263 non-null   object\n",
      "dtypes: int64(1), object(3)\n",
      "memory usage: 102.1+ KB\n"
     ]
    }
   ],
   "source": [
    "df1.info()"
   ]
  },
  {
   "cell_type": "code",
   "execution_count": 39,
   "id": "1e70d135",
   "metadata": {
    "execution": {
     "iopub.execute_input": "2024-02-13T02:36:10.653969Z",
     "iopub.status.busy": "2024-02-13T02:36:10.653551Z",
     "iopub.status.idle": "2024-02-13T02:36:10.661285Z",
     "shell.execute_reply": "2024-02-13T02:36:10.660063Z"
    },
    "papermill": {
     "duration": 0.040614,
     "end_time": "2024-02-13T02:36:10.663587",
     "exception": false,
     "start_time": "2024-02-13T02:36:10.622973",
     "status": "completed"
    },
    "tags": []
   },
   "outputs": [
    {
     "data": {
      "text/plain": [
       "(3263, 4)"
      ]
     },
     "execution_count": 39,
     "metadata": {},
     "output_type": "execute_result"
    }
   ],
   "source": [
    "df1.shape"
   ]
  },
  {
   "cell_type": "code",
   "execution_count": 40,
   "id": "94be3af0",
   "metadata": {
    "execution": {
     "iopub.execute_input": "2024-02-13T02:36:10.724469Z",
     "iopub.status.busy": "2024-02-13T02:36:10.724077Z",
     "iopub.status.idle": "2024-02-13T02:36:10.733476Z",
     "shell.execute_reply": "2024-02-13T02:36:10.732455Z"
    },
    "papermill": {
     "duration": 0.042395,
     "end_time": "2024-02-13T02:36:10.735710",
     "exception": false,
     "start_time": "2024-02-13T02:36:10.693315",
     "status": "completed"
    },
    "tags": []
   },
   "outputs": [],
   "source": [
    "df1['text_length1'] = df1['text'].apply(lambda x : len(x))"
   ]
  },
  {
   "cell_type": "code",
   "execution_count": 41,
   "id": "4b7220e9",
   "metadata": {
    "execution": {
     "iopub.execute_input": "2024-02-13T02:36:10.797869Z",
     "iopub.status.busy": "2024-02-13T02:36:10.796625Z",
     "iopub.status.idle": "2024-02-13T02:36:10.804474Z",
     "shell.execute_reply": "2024-02-13T02:36:10.803416Z"
    },
    "papermill": {
     "duration": 0.04112,
     "end_time": "2024-02-13T02:36:10.806880",
     "exception": false,
     "start_time": "2024-02-13T02:36:10.765760",
     "status": "completed"
    },
    "tags": []
   },
   "outputs": [
    {
     "data": {
      "text/plain": [
       "151"
      ]
     },
     "execution_count": 41,
     "metadata": {},
     "output_type": "execute_result"
    }
   ],
   "source": [
    "max(df1['text_length1'])"
   ]
  },
  {
   "cell_type": "code",
   "execution_count": 42,
   "id": "c6c64aff",
   "metadata": {
    "execution": {
     "iopub.execute_input": "2024-02-13T02:36:10.868532Z",
     "iopub.status.busy": "2024-02-13T02:36:10.868106Z",
     "iopub.status.idle": "2024-02-13T02:36:11.146765Z",
     "shell.execute_reply": "2024-02-13T02:36:11.145423Z"
    },
    "papermill": {
     "duration": 0.312796,
     "end_time": "2024-02-13T02:36:11.149463",
     "exception": false,
     "start_time": "2024-02-13T02:36:10.836667",
     "status": "completed"
    },
    "tags": []
   },
   "outputs": [
    {
     "data": {
      "text/plain": [
       "<Axes: ylabel='Frequency'>"
      ]
     },
     "execution_count": 42,
     "metadata": {},
     "output_type": "execute_result"
    },
    {
     "data": {
      "image/png": "[encoded data removed]",
      "text/plain": [
       "<Figure size 640x480 with 1 Axes>"
      ]
     },
     "metadata": {},
     "output_type": "display_data"
    }
   ],
   "source": [
    "df1['text_length1'].plot.hist(bins = 30)"
   ]
  },
  {
   "cell_type": "code",
   "execution_count": 43,
   "id": "3b04282e",
   "metadata": {
    "execution": {
     "iopub.execute_input": "2024-02-13T02:36:11.212079Z",
     "iopub.status.busy": "2024-02-13T02:36:11.211616Z",
     "iopub.status.idle": "2024-02-13T02:36:11.225516Z",
     "shell.execute_reply": "2024-02-13T02:36:11.224315Z"
    },
    "papermill": {
     "duration": 0.048377,
     "end_time": "2024-02-13T02:36:11.228271",
     "exception": false,
     "start_time": "2024-02-13T02:36:11.179894",
     "status": "completed"
    },
    "tags": []
   },
   "outputs": [
    {
     "data": {
      "text/html": [
       "<div>\n",
       "<style scoped>\n",
       "    .dataframe tbody tr th:only-of-type {\n",
       "        vertical-align: middle;\n",
       "    }\n",
       "\n",
       "    .dataframe tbody tr th {\n",
       "        vertical-align: top;\n",
       "    }\n",
       "\n",
       "    .dataframe thead th {\n",
       "        text-align: right;\n",
       "    }\n",
       "</style>\n",
       "<table border=\"1\" class=\"dataframe\">\n",
       "  <thead>\n",
       "    <tr style=\"text-align: right;\">\n",
       "      <th></th>\n",
       "      <th>id</th>\n",
       "      <th>keyword</th>\n",
       "      <th>location</th>\n",
       "      <th>text</th>\n",
       "      <th>text_length1</th>\n",
       "    </tr>\n",
       "  </thead>\n",
       "  <tbody>\n",
       "    <tr>\n",
       "      <th>0</th>\n",
       "      <td>0</td>\n",
       "      <td>NaN</td>\n",
       "      <td>NaN</td>\n",
       "      <td>Just happened a terrible car crash</td>\n",
       "      <td>34</td>\n",
       "    </tr>\n",
       "    <tr>\n",
       "      <th>1</th>\n",
       "      <td>2</td>\n",
       "      <td>NaN</td>\n",
       "      <td>NaN</td>\n",
       "      <td>Heard about #earthquake is different cities, s...</td>\n",
       "      <td>64</td>\n",
       "    </tr>\n",
       "    <tr>\n",
       "      <th>2</th>\n",
       "      <td>3</td>\n",
       "      <td>NaN</td>\n",
       "      <td>NaN</td>\n",
       "      <td>there is a forest fire at spot pond, geese are...</td>\n",
       "      <td>96</td>\n",
       "    </tr>\n",
       "    <tr>\n",
       "      <th>3</th>\n",
       "      <td>9</td>\n",
       "      <td>NaN</td>\n",
       "      <td>NaN</td>\n",
       "      <td>Apocalypse lighting. #Spokane #wildfires</td>\n",
       "      <td>40</td>\n",
       "    </tr>\n",
       "    <tr>\n",
       "      <th>4</th>\n",
       "      <td>11</td>\n",
       "      <td>NaN</td>\n",
       "      <td>NaN</td>\n",
       "      <td>Typhoon Soudelor kills 28 in China and Taiwan</td>\n",
       "      <td>45</td>\n",
       "    </tr>\n",
       "  </tbody>\n",
       "</table>\n",
       "</div>"
      ],
      "text/plain": [
       "   id keyword location                                               text  \\\n",
       "0   0     NaN      NaN                 Just happened a terrible car crash   \n",
       "1   2     NaN      NaN  Heard about #earthquake is different cities, s...   \n",
       "2   3     NaN      NaN  there is a forest fire at spot pond, geese are...   \n",
       "3   9     NaN      NaN           Apocalypse lighting. #Spokane #wildfires   \n",
       "4  11     NaN      NaN      Typhoon Soudelor kills 28 in China and Taiwan   \n",
       "\n",
       "   text_length1  \n",
       "0            34  \n",
       "1            64  \n",
       "2            96  \n",
       "3            40  \n",
       "4            45  "
      ]
     },
     "execution_count": 43,
     "metadata": {},
     "output_type": "execute_result"
    }
   ],
   "source": [
    "df1.head()"
   ]
  },
  {
   "cell_type": "code",
   "execution_count": 44,
   "id": "425e635f",
   "metadata": {
    "execution": {
     "iopub.execute_input": "2024-02-13T02:36:11.292012Z",
     "iopub.status.busy": "2024-02-13T02:36:11.291545Z",
     "iopub.status.idle": "2024-02-13T02:36:11.300652Z",
     "shell.execute_reply": "2024-02-13T02:36:11.299340Z"
    },
    "papermill": {
     "duration": 0.044852,
     "end_time": "2024-02-13T02:36:11.303759",
     "exception": false,
     "start_time": "2024-02-13T02:36:11.258907",
     "status": "completed"
    },
    "tags": []
   },
   "outputs": [
    {
     "name": "stdout",
     "output_type": "stream",
     "text": [
      "id                 0\n",
      "keyword           26\n",
      "location        1105\n",
      "text               0\n",
      "text_length1       0\n",
      "dtype: int64\n"
     ]
    }
   ],
   "source": [
    "print(df1.isnull().sum())"
   ]
  },
  {
   "cell_type": "code",
   "execution_count": 45,
   "id": "ad1cca13",
   "metadata": {
    "execution": {
     "iopub.execute_input": "2024-02-13T02:36:11.367032Z",
     "iopub.status.busy": "2024-02-13T02:36:11.366550Z",
     "iopub.status.idle": "2024-02-13T02:36:11.375643Z",
     "shell.execute_reply": "2024-02-13T02:36:11.374408Z"
    },
    "papermill": {
     "duration": 0.044306,
     "end_time": "2024-02-13T02:36:11.378991",
     "exception": false,
     "start_time": "2024-02-13T02:36:11.334685",
     "status": "completed"
    },
    "tags": []
   },
   "outputs": [
    {
     "name": "stderr",
     "output_type": "stream",
     "text": [
      "/tmp/ipykernel_18/3427546185.py:1: FutureWarning: A value is trying to be set on a copy of a DataFrame or Series through chained assignment using an inplace method.\n",
      "The behavior will change in pandas 3.0. This inplace method will never work because the intermediate object on which we are setting values always behaves as a copy.\n",
      "\n",
      "For example, when doing 'df[col].method(value, inplace=True)', try using 'df.method({col: value}, inplace=True)' or df[col] = df[col].method(value) instead, to perform the operation inplace on the original object.\n",
      "\n",
      "\n",
      "  df1['keyword'].fillna('empty', inplace=True)\n",
      "/tmp/ipykernel_18/3427546185.py:2: FutureWarning: A value is trying to be set on a copy of a DataFrame or Series through chained assignment using an inplace method.\n",
      "The behavior will change in pandas 3.0. This inplace method will never work because the intermediate object on which we are setting values always behaves as a copy.\n",
      "\n",
      "For example, when doing 'df[col].method(value, inplace=True)', try using 'df.method({col: value}, inplace=True)' or df[col] = df[col].method(value) instead, to perform the operation inplace on the original object.\n",
      "\n",
      "\n",
      "  df1['location'].fillna('empty', inplace=True)\n"
     ]
    }
   ],
   "source": [
    "df1['keyword'].fillna('empty', inplace=True)\n",
    "df1['location'].fillna('empty', inplace=True)"
   ]
  },
  {
   "cell_type": "code",
   "execution_count": 46,
   "id": "e4207bda",
   "metadata": {
    "execution": {
     "iopub.execute_input": "2024-02-13T02:36:11.442252Z",
     "iopub.status.busy": "2024-02-13T02:36:11.441780Z",
     "iopub.status.idle": "2024-02-13T02:36:11.451134Z",
     "shell.execute_reply": "2024-02-13T02:36:11.449872Z"
    },
    "papermill": {
     "duration": 0.04414,
     "end_time": "2024-02-13T02:36:11.453841",
     "exception": false,
     "start_time": "2024-02-13T02:36:11.409701",
     "status": "completed"
    },
    "tags": []
   },
   "outputs": [
    {
     "name": "stdout",
     "output_type": "stream",
     "text": [
      "id              0\n",
      "keyword         0\n",
      "location        0\n",
      "text            0\n",
      "text_length1    0\n",
      "dtype: int64\n"
     ]
    }
   ],
   "source": [
    "print(df1.isnull().sum())"
   ]
  },
  {
   "cell_type": "code",
   "execution_count": 47,
   "id": "43f3633a",
   "metadata": {
    "execution": {
     "iopub.execute_input": "2024-02-13T02:36:11.516917Z",
     "iopub.status.busy": "2024-02-13T02:36:11.516483Z",
     "iopub.status.idle": "2024-02-13T02:36:11.532915Z",
     "shell.execute_reply": "2024-02-13T02:36:11.531693Z"
    },
    "papermill": {
     "duration": 0.051196,
     "end_time": "2024-02-13T02:36:11.535533",
     "exception": false,
     "start_time": "2024-02-13T02:36:11.484337",
     "status": "completed"
    },
    "tags": []
   },
   "outputs": [
    {
     "data": {
      "text/plain": [
       "0       empty\n",
       "1       empty\n",
       "2       empty\n",
       "3       empty\n",
       "4       empty\n",
       "        ...  \n",
       "3258    empty\n",
       "3259    empty\n",
       "3260    empty\n",
       "3261    empty\n",
       "3262    empty\n",
       "Name: location, Length: 3263, dtype: object"
      ]
     },
     "execution_count": 47,
     "metadata": {},
     "output_type": "execute_result"
    }
   ],
   "source": [
    "df1['text'].apply(lambda x : x.lower())\n",
    "df1['keyword'].apply(lambda x : x.lower())\n",
    "df1['location'].apply(lambda x : x.lower())"
   ]
  },
  {
   "cell_type": "code",
   "execution_count": 48,
   "id": "2fb42ba7",
   "metadata": {
    "execution": {
     "iopub.execute_input": "2024-02-13T02:36:11.599069Z",
     "iopub.status.busy": "2024-02-13T02:36:11.598585Z",
     "iopub.status.idle": "2024-02-13T02:36:11.612309Z",
     "shell.execute_reply": "2024-02-13T02:36:11.611094Z"
    },
    "papermill": {
     "duration": 0.048757,
     "end_time": "2024-02-13T02:36:11.614957",
     "exception": false,
     "start_time": "2024-02-13T02:36:11.566200",
     "status": "completed"
    },
    "tags": []
   },
   "outputs": [],
   "source": [
    "df1['text'] = df1['text'].apply(lambda x : x.lower())\n",
    "df1['keyword'] = df1['keyword'].apply(lambda x : x.lower())\n",
    "df1['location'] = df1['location'].apply(lambda x : x.lower())"
   ]
  },
  {
   "cell_type": "code",
   "execution_count": 49,
   "id": "3895e83f",
   "metadata": {
    "execution": {
     "iopub.execute_input": "2024-02-13T02:36:11.679585Z",
     "iopub.status.busy": "2024-02-13T02:36:11.679115Z",
     "iopub.status.idle": "2024-02-13T02:36:11.693081Z",
     "shell.execute_reply": "2024-02-13T02:36:11.691633Z"
    },
    "papermill": {
     "duration": 0.049293,
     "end_time": "2024-02-13T02:36:11.695767",
     "exception": false,
     "start_time": "2024-02-13T02:36:11.646474",
     "status": "completed"
    },
    "tags": []
   },
   "outputs": [
    {
     "data": {
      "text/html": [
       "<div>\n",
       "<style scoped>\n",
       "    .dataframe tbody tr th:only-of-type {\n",
       "        vertical-align: middle;\n",
       "    }\n",
       "\n",
       "    .dataframe tbody tr th {\n",
       "        vertical-align: top;\n",
       "    }\n",
       "\n",
       "    .dataframe thead th {\n",
       "        text-align: right;\n",
       "    }\n",
       "</style>\n",
       "<table border=\"1\" class=\"dataframe\">\n",
       "  <thead>\n",
       "    <tr style=\"text-align: right;\">\n",
       "      <th></th>\n",
       "      <th>id</th>\n",
       "      <th>keyword</th>\n",
       "      <th>location</th>\n",
       "      <th>text</th>\n",
       "      <th>text_length1</th>\n",
       "    </tr>\n",
       "  </thead>\n",
       "  <tbody>\n",
       "    <tr>\n",
       "      <th>0</th>\n",
       "      <td>0</td>\n",
       "      <td>empty</td>\n",
       "      <td>empty</td>\n",
       "      <td>just happened a terrible car crash</td>\n",
       "      <td>34</td>\n",
       "    </tr>\n",
       "    <tr>\n",
       "      <th>1</th>\n",
       "      <td>2</td>\n",
       "      <td>empty</td>\n",
       "      <td>empty</td>\n",
       "      <td>heard about #earthquake is different cities, s...</td>\n",
       "      <td>64</td>\n",
       "    </tr>\n",
       "    <tr>\n",
       "      <th>2</th>\n",
       "      <td>3</td>\n",
       "      <td>empty</td>\n",
       "      <td>empty</td>\n",
       "      <td>there is a forest fire at spot pond, geese are...</td>\n",
       "      <td>96</td>\n",
       "    </tr>\n",
       "    <tr>\n",
       "      <th>3</th>\n",
       "      <td>9</td>\n",
       "      <td>empty</td>\n",
       "      <td>empty</td>\n",
       "      <td>apocalypse lighting. #spokane #wildfires</td>\n",
       "      <td>40</td>\n",
       "    </tr>\n",
       "    <tr>\n",
       "      <th>4</th>\n",
       "      <td>11</td>\n",
       "      <td>empty</td>\n",
       "      <td>empty</td>\n",
       "      <td>typhoon soudelor kills 28 in china and taiwan</td>\n",
       "      <td>45</td>\n",
       "    </tr>\n",
       "  </tbody>\n",
       "</table>\n",
       "</div>"
      ],
      "text/plain": [
       "   id keyword location                                               text  \\\n",
       "0   0   empty    empty                 just happened a terrible car crash   \n",
       "1   2   empty    empty  heard about #earthquake is different cities, s...   \n",
       "2   3   empty    empty  there is a forest fire at spot pond, geese are...   \n",
       "3   9   empty    empty           apocalypse lighting. #spokane #wildfires   \n",
       "4  11   empty    empty      typhoon soudelor kills 28 in china and taiwan   \n",
       "\n",
       "   text_length1  \n",
       "0            34  \n",
       "1            64  \n",
       "2            96  \n",
       "3            40  \n",
       "4            45  "
      ]
     },
     "execution_count": 49,
     "metadata": {},
     "output_type": "execute_result"
    }
   ],
   "source": [
    "df1.head(5)"
   ]
  },
  {
   "cell_type": "code",
   "execution_count": 50,
   "id": "45c61529",
   "metadata": {
    "execution": {
     "iopub.execute_input": "2024-02-13T02:36:11.761964Z",
     "iopub.status.busy": "2024-02-13T02:36:11.761401Z",
     "iopub.status.idle": "2024-02-13T02:36:11.814154Z",
     "shell.execute_reply": "2024-02-13T02:36:11.812990Z"
    },
    "papermill": {
     "duration": 0.089462,
     "end_time": "2024-02-13T02:36:11.817378",
     "exception": false,
     "start_time": "2024-02-13T02:36:11.727916",
     "status": "completed"
    },
    "tags": []
   },
   "outputs": [],
   "source": [
    "import re\n",
    "# Function to remove punctuation from a given text\n",
    "def remove_punctuation(text):\n",
    "    # Use a regular expression to remove punctuation\n",
    "    return re.sub(r'[^\\w\\s]', '', text)\n",
    "\n",
    "# Apply the function to the 'text' column\n",
    "df1['text'] = df1['text'].apply(remove_punctuation)\n",
    "\n",
    "# Function to remove punctuation from a given text\n",
    "def remove_punctuation(keyword):\n",
    "    # Use a regular expression to remove punctuation\n",
    "    return re.sub(r'[^\\w\\s]', '', keyword)\n",
    "\n",
    "# Apply the function to the 'text' column\n",
    "df1['keyword'] = df1['keyword'].apply(remove_punctuation)\n",
    "\n",
    "# Function to remove punctuation from a given text\n",
    "def remove_punctuation(location):\n",
    "    # Use a regular expression to remove punctuation\n",
    "    return re.sub(r'[^\\w\\s]', '', location)\n",
    "\n",
    "# Apply the function to the 'text' column\n",
    "df1['location'] = df1['location'].apply(remove_punctuation)"
   ]
  },
  {
   "cell_type": "code",
   "execution_count": 51,
   "id": "471790c7",
   "metadata": {
    "execution": {
     "iopub.execute_input": "2024-02-13T02:36:11.882391Z",
     "iopub.status.busy": "2024-02-13T02:36:11.881933Z",
     "iopub.status.idle": "2024-02-13T02:36:11.889279Z",
     "shell.execute_reply": "2024-02-13T02:36:11.887839Z"
    },
    "papermill": {
     "duration": 0.04351,
     "end_time": "2024-02-13T02:36:11.892463",
     "exception": false,
     "start_time": "2024-02-13T02:36:11.848953",
     "status": "completed"
    },
    "tags": []
   },
   "outputs": [
    {
     "name": "stdout",
     "output_type": "stream",
     "text": [
      "[nltk_data] Downloading package stopwords to /usr/share/nltk_data...\n",
      "[nltk_data]   Package stopwords is already up-to-date!\n"
     ]
    }
   ],
   "source": [
    "nltk.download('stopwords')\n",
    "stop = stopwords.words('english')"
   ]
  },
  {
   "cell_type": "code",
   "execution_count": 52,
   "id": "a15c151b",
   "metadata": {
    "execution": {
     "iopub.execute_input": "2024-02-13T02:36:11.958443Z",
     "iopub.status.busy": "2024-02-13T02:36:11.957942Z",
     "iopub.status.idle": "2024-02-13T02:36:11.970343Z",
     "shell.execute_reply": "2024-02-13T02:36:11.968874Z"
    },
    "papermill": {
     "duration": 0.04886,
     "end_time": "2024-02-13T02:36:11.973177",
     "exception": false,
     "start_time": "2024-02-13T02:36:11.924317",
     "status": "completed"
    },
    "tags": []
   },
   "outputs": [
    {
     "data": {
      "text/plain": [
       "['i',\n",
       " 'me',\n",
       " 'my',\n",
       " 'myself',\n",
       " 'we',\n",
       " 'our',\n",
       " 'ours',\n",
       " 'ourselves',\n",
       " 'you',\n",
       " \"you're\",\n",
       " \"you've\",\n",
       " \"you'll\",\n",
       " \"you'd\",\n",
       " 'your',\n",
       " 'yours',\n",
       " 'yourself',\n",
       " 'yourselves',\n",
       " 'he',\n",
       " 'him',\n",
       " 'his',\n",
       " 'himself',\n",
       " 'she',\n",
       " \"she's\",\n",
       " 'her',\n",
       " 'hers',\n",
       " 'herself',\n",
       " 'it',\n",
       " \"it's\",\n",
       " 'its',\n",
       " 'itself',\n",
       " 'they',\n",
       " 'them',\n",
       " 'their',\n",
       " 'theirs',\n",
       " 'themselves',\n",
       " 'what',\n",
       " 'which',\n",
       " 'who',\n",
       " 'whom',\n",
       " 'this',\n",
       " 'that',\n",
       " \"that'll\",\n",
       " 'these',\n",
       " 'those',\n",
       " 'am',\n",
       " 'is',\n",
       " 'are',\n",
       " 'was',\n",
       " 'were',\n",
       " 'be',\n",
       " 'been',\n",
       " 'being',\n",
       " 'have',\n",
       " 'has',\n",
       " 'had',\n",
       " 'having',\n",
       " 'do',\n",
       " 'does',\n",
       " 'did',\n",
       " 'doing',\n",
       " 'a',\n",
       " 'an',\n",
       " 'the',\n",
       " 'and',\n",
       " 'but',\n",
       " 'if',\n",
       " 'or',\n",
       " 'because',\n",
       " 'as',\n",
       " 'until',\n",
       " 'while',\n",
       " 'of',\n",
       " 'at',\n",
       " 'by',\n",
       " 'for',\n",
       " 'with',\n",
       " 'about',\n",
       " 'against',\n",
       " 'between',\n",
       " 'into',\n",
       " 'through',\n",
       " 'during',\n",
       " 'before',\n",
       " 'after',\n",
       " 'above',\n",
       " 'below',\n",
       " 'to',\n",
       " 'from',\n",
       " 'up',\n",
       " 'down',\n",
       " 'in',\n",
       " 'out',\n",
       " 'on',\n",
       " 'off',\n",
       " 'over',\n",
       " 'under',\n",
       " 'again',\n",
       " 'further',\n",
       " 'then',\n",
       " 'once',\n",
       " 'here',\n",
       " 'there',\n",
       " 'when',\n",
       " 'where',\n",
       " 'why',\n",
       " 'how',\n",
       " 'all',\n",
       " 'any',\n",
       " 'both',\n",
       " 'each',\n",
       " 'few',\n",
       " 'more',\n",
       " 'most',\n",
       " 'other',\n",
       " 'some',\n",
       " 'such',\n",
       " 'no',\n",
       " 'nor',\n",
       " 'not',\n",
       " 'only',\n",
       " 'own',\n",
       " 'same',\n",
       " 'so',\n",
       " 'than',\n",
       " 'too',\n",
       " 'very',\n",
       " 's',\n",
       " 't',\n",
       " 'can',\n",
       " 'will',\n",
       " 'just',\n",
       " 'don',\n",
       " \"don't\",\n",
       " 'should',\n",
       " \"should've\",\n",
       " 'now',\n",
       " 'd',\n",
       " 'll',\n",
       " 'm',\n",
       " 'o',\n",
       " 're',\n",
       " 've',\n",
       " 'y',\n",
       " 'ain',\n",
       " 'aren',\n",
       " \"aren't\",\n",
       " 'couldn',\n",
       " \"couldn't\",\n",
       " 'didn',\n",
       " \"didn't\",\n",
       " 'doesn',\n",
       " \"doesn't\",\n",
       " 'hadn',\n",
       " \"hadn't\",\n",
       " 'hasn',\n",
       " \"hasn't\",\n",
       " 'haven',\n",
       " \"haven't\",\n",
       " 'isn',\n",
       " \"isn't\",\n",
       " 'ma',\n",
       " 'mightn',\n",
       " \"mightn't\",\n",
       " 'mustn',\n",
       " \"mustn't\",\n",
       " 'needn',\n",
       " \"needn't\",\n",
       " 'shan',\n",
       " \"shan't\",\n",
       " 'shouldn',\n",
       " \"shouldn't\",\n",
       " 'wasn',\n",
       " \"wasn't\",\n",
       " 'weren',\n",
       " \"weren't\",\n",
       " 'won',\n",
       " \"won't\",\n",
       " 'wouldn',\n",
       " \"wouldn't\"]"
      ]
     },
     "execution_count": 52,
     "metadata": {},
     "output_type": "execute_result"
    }
   ],
   "source": [
    "stop"
   ]
  },
  {
   "cell_type": "code",
   "execution_count": 53,
   "id": "3fc223a1",
   "metadata": {
    "execution": {
     "iopub.execute_input": "2024-02-13T02:36:12.041579Z",
     "iopub.status.busy": "2024-02-13T02:36:12.041130Z",
     "iopub.status.idle": "2024-02-13T02:36:12.202546Z",
     "shell.execute_reply": "2024-02-13T02:36:12.201381Z"
    },
    "papermill": {
     "duration": 0.198887,
     "end_time": "2024-02-13T02:36:12.205458",
     "exception": false,
     "start_time": "2024-02-13T02:36:12.006571",
     "status": "completed"
    },
    "tags": []
   },
   "outputs": [
    {
     "data": {
      "text/plain": [
       "0       [empty]\n",
       "1       [empty]\n",
       "2       [empty]\n",
       "3       [empty]\n",
       "4       [empty]\n",
       "         ...   \n",
       "3258    [empty]\n",
       "3259    [empty]\n",
       "3260    [empty]\n",
       "3261    [empty]\n",
       "3262    [empty]\n",
       "Name: location, Length: 3263, dtype: object"
      ]
     },
     "execution_count": 53,
     "metadata": {},
     "output_type": "execute_result"
    }
   ],
   "source": [
    "# Tokenize and Remove Stop Words\n",
    "df1['text'].apply(lambda x: [word for word in x.split() if word not in stop])\n",
    "df1['keyword'].apply(lambda x: [word for word in x.split() if word not in stop])\n",
    "df1['location'].apply(lambda x: [word for word in x.split() if word not in stop])"
   ]
  },
  {
   "cell_type": "code",
   "execution_count": 54,
   "id": "965fb934",
   "metadata": {
    "execution": {
     "iopub.execute_input": "2024-02-13T02:36:12.270962Z",
     "iopub.status.busy": "2024-02-13T02:36:12.270510Z",
     "iopub.status.idle": "2024-02-13T02:36:12.425965Z",
     "shell.execute_reply": "2024-02-13T02:36:12.424693Z"
    },
    "papermill": {
     "duration": 0.191633,
     "end_time": "2024-02-13T02:36:12.429024",
     "exception": false,
     "start_time": "2024-02-13T02:36:12.237391",
     "status": "completed"
    },
    "tags": []
   },
   "outputs": [],
   "source": [
    "# Join the words back\n",
    "df1['text'] = df1['text'].apply(lambda x: ' '.join([word for word in x.split() if word not in (stop)]))\n",
    "df1['keyword'] = df1['keyword'].apply(lambda x: ' '.join([word for word in x.split() if word not in (stop)]))\n",
    "df1['location'] = df1['location'].apply(lambda x: ' '.join([word for word in x.split() if word not in (stop)]))"
   ]
  },
  {
   "cell_type": "code",
   "execution_count": 55,
   "id": "cfea3cf8",
   "metadata": {
    "execution": {
     "iopub.execute_input": "2024-02-13T02:36:12.496134Z",
     "iopub.status.busy": "2024-02-13T02:36:12.494465Z",
     "iopub.status.idle": "2024-02-13T02:36:12.509071Z",
     "shell.execute_reply": "2024-02-13T02:36:12.507758Z"
    },
    "papermill": {
     "duration": 0.050772,
     "end_time": "2024-02-13T02:36:12.511666",
     "exception": false,
     "start_time": "2024-02-13T02:36:12.460894",
     "status": "completed"
    },
    "tags": []
   },
   "outputs": [
    {
     "data": {
      "text/html": [
       "<div>\n",
       "<style scoped>\n",
       "    .dataframe tbody tr th:only-of-type {\n",
       "        vertical-align: middle;\n",
       "    }\n",
       "\n",
       "    .dataframe tbody tr th {\n",
       "        vertical-align: top;\n",
       "    }\n",
       "\n",
       "    .dataframe thead th {\n",
       "        text-align: right;\n",
       "    }\n",
       "</style>\n",
       "<table border=\"1\" class=\"dataframe\">\n",
       "  <thead>\n",
       "    <tr style=\"text-align: right;\">\n",
       "      <th></th>\n",
       "      <th>id</th>\n",
       "      <th>keyword</th>\n",
       "      <th>location</th>\n",
       "      <th>text</th>\n",
       "      <th>text_length1</th>\n",
       "    </tr>\n",
       "  </thead>\n",
       "  <tbody>\n",
       "    <tr>\n",
       "      <th>0</th>\n",
       "      <td>0</td>\n",
       "      <td>empty</td>\n",
       "      <td>empty</td>\n",
       "      <td>happened terrible car crash</td>\n",
       "      <td>34</td>\n",
       "    </tr>\n",
       "    <tr>\n",
       "      <th>1</th>\n",
       "      <td>2</td>\n",
       "      <td>empty</td>\n",
       "      <td>empty</td>\n",
       "      <td>heard earthquake different cities stay safe ev...</td>\n",
       "      <td>64</td>\n",
       "    </tr>\n",
       "    <tr>\n",
       "      <th>2</th>\n",
       "      <td>3</td>\n",
       "      <td>empty</td>\n",
       "      <td>empty</td>\n",
       "      <td>forest fire spot pond geese fleeing across str...</td>\n",
       "      <td>96</td>\n",
       "    </tr>\n",
       "    <tr>\n",
       "      <th>3</th>\n",
       "      <td>9</td>\n",
       "      <td>empty</td>\n",
       "      <td>empty</td>\n",
       "      <td>apocalypse lighting spokane wildfires</td>\n",
       "      <td>40</td>\n",
       "    </tr>\n",
       "    <tr>\n",
       "      <th>4</th>\n",
       "      <td>11</td>\n",
       "      <td>empty</td>\n",
       "      <td>empty</td>\n",
       "      <td>typhoon soudelor kills 28 china taiwan</td>\n",
       "      <td>45</td>\n",
       "    </tr>\n",
       "  </tbody>\n",
       "</table>\n",
       "</div>"
      ],
      "text/plain": [
       "   id keyword location                                               text  \\\n",
       "0   0   empty    empty                        happened terrible car crash   \n",
       "1   2   empty    empty  heard earthquake different cities stay safe ev...   \n",
       "2   3   empty    empty  forest fire spot pond geese fleeing across str...   \n",
       "3   9   empty    empty              apocalypse lighting spokane wildfires   \n",
       "4  11   empty    empty             typhoon soudelor kills 28 china taiwan   \n",
       "\n",
       "   text_length1  \n",
       "0            34  \n",
       "1            64  \n",
       "2            96  \n",
       "3            40  \n",
       "4            45  "
      ]
     },
     "execution_count": 55,
     "metadata": {},
     "output_type": "execute_result"
    }
   ],
   "source": [
    "df1.head()"
   ]
  },
  {
   "cell_type": "code",
   "execution_count": 56,
   "id": "affe1496",
   "metadata": {
    "execution": {
     "iopub.execute_input": "2024-02-13T02:36:12.577622Z",
     "iopub.status.busy": "2024-02-13T02:36:12.577209Z",
     "iopub.status.idle": "2024-02-13T02:36:12.716552Z",
     "shell.execute_reply": "2024-02-13T02:36:12.715479Z"
    },
    "papermill": {
     "duration": 0.175671,
     "end_time": "2024-02-13T02:36:12.719345",
     "exception": false,
     "start_time": "2024-02-13T02:36:12.543674",
     "status": "completed"
    },
    "tags": []
   },
   "outputs": [
    {
     "name": "stdout",
     "output_type": "stream",
     "text": [
      "[nltk_data] Downloading package omw-1.4 to /usr/share/nltk_data...\n",
      "[nltk_data]   Package omw-1.4 is already up-to-date!\n"
     ]
    },
    {
     "data": {
      "text/plain": [
       "0       empty\n",
       "1       empty\n",
       "2       empty\n",
       "3       empty\n",
       "4       empty\n",
       "        ...  \n",
       "3258    empty\n",
       "3259    empty\n",
       "3260    empty\n",
       "3261    empty\n",
       "3262    empty\n",
       "Name: location, Length: 3263, dtype: object"
      ]
     },
     "execution_count": 56,
     "metadata": {},
     "output_type": "execute_result"
    }
   ],
   "source": [
    "nltk.download('omw-1.4')\n",
    "# Lemmatize\n",
    "df1['text'].apply(lambda x : wordnet.lemmatize(x))\n",
    "df1['keyword'].apply(lambda x : wordnet.lemmatize(x))\n",
    "df1['location'].apply(lambda x : wordnet.lemmatize(x))"
   ]
  },
  {
   "cell_type": "code",
   "execution_count": 57,
   "id": "99ae73a5",
   "metadata": {
    "execution": {
     "iopub.execute_input": "2024-02-13T02:36:12.787849Z",
     "iopub.status.busy": "2024-02-13T02:36:12.786978Z",
     "iopub.status.idle": "2024-02-13T02:36:12.860717Z",
     "shell.execute_reply": "2024-02-13T02:36:12.859765Z"
    },
    "papermill": {
     "duration": 0.111697,
     "end_time": "2024-02-13T02:36:12.863769",
     "exception": false,
     "start_time": "2024-02-13T02:36:12.752072",
     "status": "completed"
    },
    "tags": []
   },
   "outputs": [],
   "source": [
    "# Commit to Table\n",
    "df1['text'] = df1['text'].apply(lambda x : wordnet.lemmatize(x))\n",
    "df1['keyword'] = df1['keyword'].apply(lambda x : wordnet.lemmatize(x))\n",
    "df1['location'] = df1['location'].apply(lambda x : wordnet.lemmatize(x))"
   ]
  },
  {
   "cell_type": "code",
   "execution_count": 58,
   "id": "68f356de",
   "metadata": {
    "execution": {
     "iopub.execute_input": "2024-02-13T02:36:12.933102Z",
     "iopub.status.busy": "2024-02-13T02:36:12.932392Z",
     "iopub.status.idle": "2024-02-13T02:36:12.944375Z",
     "shell.execute_reply": "2024-02-13T02:36:12.943117Z"
    },
    "papermill": {
     "duration": 0.049639,
     "end_time": "2024-02-13T02:36:12.946860",
     "exception": false,
     "start_time": "2024-02-13T02:36:12.897221",
     "status": "completed"
    },
    "tags": []
   },
   "outputs": [
    {
     "data": {
      "text/html": [
       "<div>\n",
       "<style scoped>\n",
       "    .dataframe tbody tr th:only-of-type {\n",
       "        vertical-align: middle;\n",
       "    }\n",
       "\n",
       "    .dataframe tbody tr th {\n",
       "        vertical-align: top;\n",
       "    }\n",
       "\n",
       "    .dataframe thead th {\n",
       "        text-align: right;\n",
       "    }\n",
       "</style>\n",
       "<table border=\"1\" class=\"dataframe\">\n",
       "  <thead>\n",
       "    <tr style=\"text-align: right;\">\n",
       "      <th></th>\n",
       "      <th>id</th>\n",
       "      <th>keyword</th>\n",
       "      <th>location</th>\n",
       "      <th>text</th>\n",
       "      <th>text_length1</th>\n",
       "    </tr>\n",
       "  </thead>\n",
       "  <tbody>\n",
       "    <tr>\n",
       "      <th>0</th>\n",
       "      <td>0</td>\n",
       "      <td>empty</td>\n",
       "      <td>empty</td>\n",
       "      <td>happened terrible car crash</td>\n",
       "      <td>34</td>\n",
       "    </tr>\n",
       "    <tr>\n",
       "      <th>1</th>\n",
       "      <td>2</td>\n",
       "      <td>empty</td>\n",
       "      <td>empty</td>\n",
       "      <td>heard earthquake different cities stay safe ev...</td>\n",
       "      <td>64</td>\n",
       "    </tr>\n",
       "    <tr>\n",
       "      <th>2</th>\n",
       "      <td>3</td>\n",
       "      <td>empty</td>\n",
       "      <td>empty</td>\n",
       "      <td>forest fire spot pond geese fleeing across str...</td>\n",
       "      <td>96</td>\n",
       "    </tr>\n",
       "    <tr>\n",
       "      <th>3</th>\n",
       "      <td>9</td>\n",
       "      <td>empty</td>\n",
       "      <td>empty</td>\n",
       "      <td>apocalypse lighting spokane wildfires</td>\n",
       "      <td>40</td>\n",
       "    </tr>\n",
       "    <tr>\n",
       "      <th>4</th>\n",
       "      <td>11</td>\n",
       "      <td>empty</td>\n",
       "      <td>empty</td>\n",
       "      <td>typhoon soudelor kills 28 china taiwan</td>\n",
       "      <td>45</td>\n",
       "    </tr>\n",
       "  </tbody>\n",
       "</table>\n",
       "</div>"
      ],
      "text/plain": [
       "   id keyword location                                               text  \\\n",
       "0   0   empty    empty                        happened terrible car crash   \n",
       "1   2   empty    empty  heard earthquake different cities stay safe ev...   \n",
       "2   3   empty    empty  forest fire spot pond geese fleeing across str...   \n",
       "3   9   empty    empty              apocalypse lighting spokane wildfires   \n",
       "4  11   empty    empty             typhoon soudelor kills 28 china taiwan   \n",
       "\n",
       "   text_length1  \n",
       "0            34  \n",
       "1            64  \n",
       "2            96  \n",
       "3            40  \n",
       "4            45  "
      ]
     },
     "execution_count": 58,
     "metadata": {},
     "output_type": "execute_result"
    }
   ],
   "source": [
    "df1.head()"
   ]
  },
  {
   "cell_type": "code",
   "execution_count": 59,
   "id": "795c7981",
   "metadata": {
    "execution": {
     "iopub.execute_input": "2024-02-13T02:36:13.015987Z",
     "iopub.status.busy": "2024-02-13T02:36:13.015595Z",
     "iopub.status.idle": "2024-02-13T02:36:13.033206Z",
     "shell.execute_reply": "2024-02-13T02:36:13.031912Z"
    },
    "papermill": {
     "duration": 0.055647,
     "end_time": "2024-02-13T02:36:13.035718",
     "exception": false,
     "start_time": "2024-02-13T02:36:12.980071",
     "status": "completed"
    },
    "tags": []
   },
   "outputs": [
    {
     "data": {
      "text/html": [
       "<div>\n",
       "<style scoped>\n",
       "    .dataframe tbody tr th:only-of-type {\n",
       "        vertical-align: middle;\n",
       "    }\n",
       "\n",
       "    .dataframe tbody tr th {\n",
       "        vertical-align: top;\n",
       "    }\n",
       "\n",
       "    .dataframe thead th {\n",
       "        text-align: right;\n",
       "    }\n",
       "</style>\n",
       "<table border=\"1\" class=\"dataframe\">\n",
       "  <thead>\n",
       "    <tr style=\"text-align: right;\">\n",
       "      <th></th>\n",
       "      <th>id</th>\n",
       "      <th>keyword</th>\n",
       "      <th>location</th>\n",
       "      <th>text</th>\n",
       "      <th>text_length1</th>\n",
       "      <th>post_text_length1</th>\n",
       "    </tr>\n",
       "  </thead>\n",
       "  <tbody>\n",
       "    <tr>\n",
       "      <th>0</th>\n",
       "      <td>0</td>\n",
       "      <td>empty</td>\n",
       "      <td>empty</td>\n",
       "      <td>happened terrible car crash</td>\n",
       "      <td>34</td>\n",
       "      <td>27</td>\n",
       "    </tr>\n",
       "    <tr>\n",
       "      <th>1</th>\n",
       "      <td>2</td>\n",
       "      <td>empty</td>\n",
       "      <td>empty</td>\n",
       "      <td>heard earthquake different cities stay safe ev...</td>\n",
       "      <td>64</td>\n",
       "      <td>52</td>\n",
       "    </tr>\n",
       "    <tr>\n",
       "      <th>2</th>\n",
       "      <td>3</td>\n",
       "      <td>empty</td>\n",
       "      <td>empty</td>\n",
       "      <td>forest fire spot pond geese fleeing across str...</td>\n",
       "      <td>96</td>\n",
       "      <td>61</td>\n",
       "    </tr>\n",
       "    <tr>\n",
       "      <th>3</th>\n",
       "      <td>9</td>\n",
       "      <td>empty</td>\n",
       "      <td>empty</td>\n",
       "      <td>apocalypse lighting spokane wildfires</td>\n",
       "      <td>40</td>\n",
       "      <td>37</td>\n",
       "    </tr>\n",
       "    <tr>\n",
       "      <th>4</th>\n",
       "      <td>11</td>\n",
       "      <td>empty</td>\n",
       "      <td>empty</td>\n",
       "      <td>typhoon soudelor kills 28 china taiwan</td>\n",
       "      <td>45</td>\n",
       "      <td>38</td>\n",
       "    </tr>\n",
       "  </tbody>\n",
       "</table>\n",
       "</div>"
      ],
      "text/plain": [
       "   id keyword location                                               text  \\\n",
       "0   0   empty    empty                        happened terrible car crash   \n",
       "1   2   empty    empty  heard earthquake different cities stay safe ev...   \n",
       "2   3   empty    empty  forest fire spot pond geese fleeing across str...   \n",
       "3   9   empty    empty              apocalypse lighting spokane wildfires   \n",
       "4  11   empty    empty             typhoon soudelor kills 28 china taiwan   \n",
       "\n",
       "   text_length1  post_text_length1  \n",
       "0            34                 27  \n",
       "1            64                 52  \n",
       "2            96                 61  \n",
       "3            40                 37  \n",
       "4            45                 38  "
      ]
     },
     "execution_count": 59,
     "metadata": {},
     "output_type": "execute_result"
    }
   ],
   "source": [
    "# Create Length Feature\n",
    "df1['post_text_length1'] = df1['text'].apply(lambda x : len(x))\n",
    "df1.head()"
   ]
  },
  {
   "cell_type": "code",
   "execution_count": 60,
   "id": "f1c7ce5f",
   "metadata": {
    "execution": {
     "iopub.execute_input": "2024-02-13T02:36:13.106228Z",
     "iopub.status.busy": "2024-02-13T02:36:13.105607Z",
     "iopub.status.idle": "2024-02-13T02:36:13.271077Z",
     "shell.execute_reply": "2024-02-13T02:36:13.269475Z"
    },
    "papermill": {
     "duration": 0.206136,
     "end_time": "2024-02-13T02:36:13.276462",
     "exception": false,
     "start_time": "2024-02-13T02:36:13.070326",
     "status": "completed"
    },
    "tags": []
   },
   "outputs": [
    {
     "data": {
      "text/html": [
       "<div>\n",
       "<style scoped>\n",
       "    .dataframe tbody tr th:only-of-type {\n",
       "        vertical-align: middle;\n",
       "    }\n",
       "\n",
       "    .dataframe tbody tr th {\n",
       "        vertical-align: top;\n",
       "    }\n",
       "\n",
       "    .dataframe thead th {\n",
       "        text-align: right;\n",
       "    }\n",
       "</style>\n",
       "<table border=\"1\" class=\"dataframe\">\n",
       "  <thead>\n",
       "    <tr style=\"text-align: right;\">\n",
       "      <th></th>\n",
       "      <th>0</th>\n",
       "    </tr>\n",
       "  </thead>\n",
       "  <tbody>\n",
       "    <tr>\n",
       "      <th>0</th>\n",
       "      <td>1</td>\n",
       "    </tr>\n",
       "    <tr>\n",
       "      <th>1</th>\n",
       "      <td>1</td>\n",
       "    </tr>\n",
       "    <tr>\n",
       "      <th>2</th>\n",
       "      <td>1</td>\n",
       "    </tr>\n",
       "    <tr>\n",
       "      <th>3</th>\n",
       "      <td>1</td>\n",
       "    </tr>\n",
       "    <tr>\n",
       "      <th>4</th>\n",
       "      <td>1</td>\n",
       "    </tr>\n",
       "  </tbody>\n",
       "</table>\n",
       "</div>"
      ],
      "text/plain": [
       "   0\n",
       "0  1\n",
       "1  1\n",
       "2  1\n",
       "3  1\n",
       "4  1"
      ]
     },
     "execution_count": 60,
     "metadata": {},
     "output_type": "execute_result"
    }
   ],
   "source": [
    "#test predicitons\n",
    "X_test_cv = cv.transform(df1['text']).toarray()\n",
    "y_test_pred = nb.predict(X_test_cv)\n",
    "\n",
    "# Convert predictions to a DataFrame\n",
    "df3 = pd.DataFrame(y_test_pred)\n",
    "df3.head()"
   ]
  },
  {
   "cell_type": "code",
   "execution_count": 61,
   "id": "aad7f43e",
   "metadata": {
    "execution": {
     "iopub.execute_input": "2024-02-13T02:36:13.395681Z",
     "iopub.status.busy": "2024-02-13T02:36:13.395277Z",
     "iopub.status.idle": "2024-02-13T02:36:13.821464Z",
     "shell.execute_reply": "2024-02-13T02:36:13.820512Z"
    },
    "papermill": {
     "duration": 0.475474,
     "end_time": "2024-02-13T02:36:13.823587",
     "exception": false,
     "start_time": "2024-02-13T02:36:13.348113",
     "status": "completed"
    },
    "tags": []
   },
   "outputs": [
    {
     "name": "stdout",
     "output_type": "stream",
     "text": [
      "<class 'pandas.core.frame.DataFrame'>\n",
      "<class 'numpy.ndarray'>\n"
     ]
    },
    {
     "data": {
      "text/html": [
       "<div>\n",
       "<style scoped>\n",
       "    .dataframe tbody tr th:only-of-type {\n",
       "        vertical-align: middle;\n",
       "    }\n",
       "\n",
       "    .dataframe tbody tr th {\n",
       "        vertical-align: top;\n",
       "    }\n",
       "\n",
       "    .dataframe thead th {\n",
       "        text-align: right;\n",
       "    }\n",
       "</style>\n",
       "<table border=\"1\" class=\"dataframe\">\n",
       "  <thead>\n",
       "    <tr style=\"text-align: right;\">\n",
       "      <th></th>\n",
       "      <th>010401</th>\n",
       "      <th>05</th>\n",
       "      <th>06</th>\n",
       "      <th>10</th>\n",
       "      <th>100</th>\n",
       "      <th>1000</th>\n",
       "      <th>101</th>\n",
       "      <th>11</th>\n",
       "      <th>11yearold</th>\n",
       "      <th>12</th>\n",
       "      <th>...</th>\n",
       "      <th>zionist</th>\n",
       "      <th>zombie</th>\n",
       "      <th>zone</th>\n",
       "      <th>åè</th>\n",
       "      <th>åê</th>\n",
       "      <th>û_</th>\n",
       "      <th>ûpolitics</th>\n",
       "      <th>ûïwhen</th>\n",
       "      <th>ûò</th>\n",
       "      <th>ûó</th>\n",
       "    </tr>\n",
       "  </thead>\n",
       "  <tbody>\n",
       "    <tr>\n",
       "      <th>0</th>\n",
       "      <td>0</td>\n",
       "      <td>0</td>\n",
       "      <td>0</td>\n",
       "      <td>0</td>\n",
       "      <td>0</td>\n",
       "      <td>0</td>\n",
       "      <td>0</td>\n",
       "      <td>0</td>\n",
       "      <td>0</td>\n",
       "      <td>0</td>\n",
       "      <td>...</td>\n",
       "      <td>0</td>\n",
       "      <td>0</td>\n",
       "      <td>0</td>\n",
       "      <td>0</td>\n",
       "      <td>0</td>\n",
       "      <td>0</td>\n",
       "      <td>0</td>\n",
       "      <td>0</td>\n",
       "      <td>0</td>\n",
       "      <td>0</td>\n",
       "    </tr>\n",
       "    <tr>\n",
       "      <th>1</th>\n",
       "      <td>0</td>\n",
       "      <td>0</td>\n",
       "      <td>0</td>\n",
       "      <td>0</td>\n",
       "      <td>0</td>\n",
       "      <td>0</td>\n",
       "      <td>0</td>\n",
       "      <td>0</td>\n",
       "      <td>0</td>\n",
       "      <td>0</td>\n",
       "      <td>...</td>\n",
       "      <td>0</td>\n",
       "      <td>0</td>\n",
       "      <td>0</td>\n",
       "      <td>0</td>\n",
       "      <td>0</td>\n",
       "      <td>0</td>\n",
       "      <td>0</td>\n",
       "      <td>0</td>\n",
       "      <td>0</td>\n",
       "      <td>0</td>\n",
       "    </tr>\n",
       "    <tr>\n",
       "      <th>2</th>\n",
       "      <td>0</td>\n",
       "      <td>0</td>\n",
       "      <td>0</td>\n",
       "      <td>0</td>\n",
       "      <td>0</td>\n",
       "      <td>0</td>\n",
       "      <td>0</td>\n",
       "      <td>0</td>\n",
       "      <td>0</td>\n",
       "      <td>0</td>\n",
       "      <td>...</td>\n",
       "      <td>0</td>\n",
       "      <td>0</td>\n",
       "      <td>0</td>\n",
       "      <td>0</td>\n",
       "      <td>0</td>\n",
       "      <td>0</td>\n",
       "      <td>0</td>\n",
       "      <td>0</td>\n",
       "      <td>0</td>\n",
       "      <td>0</td>\n",
       "    </tr>\n",
       "    <tr>\n",
       "      <th>3</th>\n",
       "      <td>0</td>\n",
       "      <td>0</td>\n",
       "      <td>0</td>\n",
       "      <td>0</td>\n",
       "      <td>0</td>\n",
       "      <td>0</td>\n",
       "      <td>0</td>\n",
       "      <td>0</td>\n",
       "      <td>0</td>\n",
       "      <td>0</td>\n",
       "      <td>...</td>\n",
       "      <td>0</td>\n",
       "      <td>0</td>\n",
       "      <td>0</td>\n",
       "      <td>0</td>\n",
       "      <td>0</td>\n",
       "      <td>0</td>\n",
       "      <td>0</td>\n",
       "      <td>0</td>\n",
       "      <td>0</td>\n",
       "      <td>0</td>\n",
       "    </tr>\n",
       "    <tr>\n",
       "      <th>4</th>\n",
       "      <td>0</td>\n",
       "      <td>0</td>\n",
       "      <td>0</td>\n",
       "      <td>0</td>\n",
       "      <td>0</td>\n",
       "      <td>0</td>\n",
       "      <td>0</td>\n",
       "      <td>0</td>\n",
       "      <td>0</td>\n",
       "      <td>0</td>\n",
       "      <td>...</td>\n",
       "      <td>0</td>\n",
       "      <td>0</td>\n",
       "      <td>0</td>\n",
       "      <td>0</td>\n",
       "      <td>0</td>\n",
       "      <td>0</td>\n",
       "      <td>0</td>\n",
       "      <td>0</td>\n",
       "      <td>0</td>\n",
       "      <td>0</td>\n",
       "    </tr>\n",
       "  </tbody>\n",
       "</table>\n",
       "<p>5 rows × 3000 columns</p>\n",
       "</div>"
      ],
      "text/plain": [
       "   010401  05  06  10  100  1000  101  11  11yearold  12  ...  zionist  \\\n",
       "0       0   0   0   0    0     0    0   0          0   0  ...        0   \n",
       "1       0   0   0   0    0     0    0   0          0   0  ...        0   \n",
       "2       0   0   0   0    0     0    0   0          0   0  ...        0   \n",
       "3       0   0   0   0    0     0    0   0          0   0  ...        0   \n",
       "4       0   0   0   0    0     0    0   0          0   0  ...        0   \n",
       "\n",
       "   zombie  zone  åè  åê  û_  ûpolitics  ûïwhen  ûò  ûó  \n",
       "0       0     0   0   0   0          0       0   0   0  \n",
       "1       0     0   0   0   0          0       0   0   0  \n",
       "2       0     0   0   0   0          0       0   0   0  \n",
       "3       0     0   0   0   0          0       0   0   0  \n",
       "4       0     0   0   0   0          0       0   0   0  \n",
       "\n",
       "[5 rows x 3000 columns]"
      ]
     },
     "execution_count": 61,
     "metadata": {},
     "output_type": "execute_result"
    }
   ],
   "source": [
    "#import count_vectorizer\n",
    "from sklearn.feature_extraction.text import CountVectorizer\n",
    "cv = CountVectorizer(max_features=3000)\n",
    "\n",
    "cv.fit(X_train['text'])\n",
    "X_train_cv = cv.transform(X_train['text']).toarray()\n",
    "X_test_cv = cv.transform(X_test['text']).toarray()\n",
    "\n",
    "print(type(X_train))\n",
    "print(type(X_train_cv))\n",
    "\n",
    "train_with_cv = pd.DataFrame(X_train_cv, columns= cv.get_feature_names_out())\n",
    "train_with_cv.head()"
   ]
  },
  {
   "cell_type": "code",
   "execution_count": 62,
   "id": "84d9758e",
   "metadata": {
    "execution": {
     "iopub.execute_input": "2024-02-13T02:36:13.891736Z",
     "iopub.status.busy": "2024-02-13T02:36:13.891242Z",
     "iopub.status.idle": "2024-02-13T02:36:14.073936Z",
     "shell.execute_reply": "2024-02-13T02:36:14.072211Z"
    },
    "papermill": {
     "duration": 0.221487,
     "end_time": "2024-02-13T02:36:14.078041",
     "exception": false,
     "start_time": "2024-02-13T02:36:13.856554",
     "status": "completed"
    },
    "tags": []
   },
   "outputs": [
    {
     "data": {
      "text/html": [
       "<div>\n",
       "<style scoped>\n",
       "    .dataframe tbody tr th:only-of-type {\n",
       "        vertical-align: middle;\n",
       "    }\n",
       "\n",
       "    .dataframe tbody tr th {\n",
       "        vertical-align: top;\n",
       "    }\n",
       "\n",
       "    .dataframe thead th {\n",
       "        text-align: right;\n",
       "    }\n",
       "</style>\n",
       "<table border=\"1\" class=\"dataframe\">\n",
       "  <thead>\n",
       "    <tr style=\"text-align: right;\">\n",
       "      <th></th>\n",
       "      <th>target</th>\n",
       "    </tr>\n",
       "  </thead>\n",
       "  <tbody>\n",
       "    <tr>\n",
       "      <th>0</th>\n",
       "      <td>1</td>\n",
       "    </tr>\n",
       "    <tr>\n",
       "      <th>1</th>\n",
       "      <td>0</td>\n",
       "    </tr>\n",
       "    <tr>\n",
       "      <th>2</th>\n",
       "      <td>1</td>\n",
       "    </tr>\n",
       "    <tr>\n",
       "      <th>3</th>\n",
       "      <td>1</td>\n",
       "    </tr>\n",
       "    <tr>\n",
       "      <th>4</th>\n",
       "      <td>0</td>\n",
       "    </tr>\n",
       "  </tbody>\n",
       "</table>\n",
       "</div>"
      ],
      "text/plain": [
       "   target\n",
       "0       1\n",
       "1       0\n",
       "2       1\n",
       "3       1\n",
       "4       0"
      ]
     },
     "execution_count": 62,
     "metadata": {},
     "output_type": "execute_result"
    }
   ],
   "source": [
    "# Predictions\n",
    "rf_predictions1 = nb.predict(X_train_cv)\n",
    "rf_predictions2 = nb.predict(X_test_cv)\n",
    "# Convert predictions to DataFrames\n",
    "df11 = pd.DataFrame({'target': rf_predictions1})\n",
    "df21 = pd.DataFrame({'target': rf_predictions2})\n",
    "\n",
    "# Concatenate DataFrames vertically\n",
    "submission = pd.concat([df11, df21], ignore_index=True)\n",
    "submission = pd.DataFrame(submission)\n",
    "submission.head()"
   ]
  },
  {
   "cell_type": "code",
   "execution_count": 63,
   "id": "499b2d7e",
   "metadata": {
    "execution": {
     "iopub.execute_input": "2024-02-13T02:36:14.200828Z",
     "iopub.status.busy": "2024-02-13T02:36:14.200352Z",
     "iopub.status.idle": "2024-02-13T02:36:14.224511Z",
     "shell.execute_reply": "2024-02-13T02:36:14.223347Z"
    },
    "papermill": {
     "duration": 0.0766,
     "end_time": "2024-02-13T02:36:14.226914",
     "exception": false,
     "start_time": "2024-02-13T02:36:14.150314",
     "status": "completed"
    },
    "tags": []
   },
   "outputs": [
    {
     "data": {
      "text/html": [
       "<div>\n",
       "<style scoped>\n",
       "    .dataframe tbody tr th:only-of-type {\n",
       "        vertical-align: middle;\n",
       "    }\n",
       "\n",
       "    .dataframe tbody tr th {\n",
       "        vertical-align: top;\n",
       "    }\n",
       "\n",
       "    .dataframe thead th {\n",
       "        text-align: right;\n",
       "    }\n",
       "</style>\n",
       "<table border=\"1\" class=\"dataframe\">\n",
       "  <thead>\n",
       "    <tr style=\"text-align: right;\">\n",
       "      <th></th>\n",
       "      <th>id</th>\n",
       "      <th>target</th>\n",
       "    </tr>\n",
       "  </thead>\n",
       "  <tbody>\n",
       "    <tr>\n",
       "      <th>0</th>\n",
       "      <td>0</td>\n",
       "      <td>1</td>\n",
       "    </tr>\n",
       "    <tr>\n",
       "      <th>1</th>\n",
       "      <td>2</td>\n",
       "      <td>1</td>\n",
       "    </tr>\n",
       "    <tr>\n",
       "      <th>2</th>\n",
       "      <td>3</td>\n",
       "      <td>1</td>\n",
       "    </tr>\n",
       "    <tr>\n",
       "      <th>3</th>\n",
       "      <td>9</td>\n",
       "      <td>1</td>\n",
       "    </tr>\n",
       "    <tr>\n",
       "      <th>4</th>\n",
       "      <td>11</td>\n",
       "      <td>1</td>\n",
       "    </tr>\n",
       "  </tbody>\n",
       "</table>\n",
       "</div>"
      ],
      "text/plain": [
       "   id  target\n",
       "0   0       1\n",
       "1   2       1\n",
       "2   3       1\n",
       "3   9       1\n",
       "4  11       1"
      ]
     },
     "execution_count": 63,
     "metadata": {},
     "output_type": "execute_result"
    }
   ],
   "source": [
    "df1 = pd.read_csv('/kaggle/input/ipba-17-nlp-with-disaster-tweets-2024/test.csv')\n",
    "# Create a DataFrame with IDs and predictions\n",
    "submission = pd.DataFrame({'id': df1['id'], 'target': df3[0]})\n",
    "submission.head()"
   ]
  },
  {
   "cell_type": "code",
   "execution_count": 64,
   "id": "ce6b6801",
   "metadata": {
    "execution": {
     "iopub.execute_input": "2024-02-13T02:36:14.296671Z",
     "iopub.status.busy": "2024-02-13T02:36:14.295871Z",
     "iopub.status.idle": "2024-02-13T02:36:14.307875Z",
     "shell.execute_reply": "2024-02-13T02:36:14.307027Z"
    },
    "papermill": {
     "duration": 0.049753,
     "end_time": "2024-02-13T02:36:14.310552",
     "exception": false,
     "start_time": "2024-02-13T02:36:14.260799",
     "status": "completed"
    },
    "tags": []
   },
   "outputs": [],
   "source": [
    "# Save the DataFrame to a CSV file (adjust the filename as needed)\n",
    "submission.to_csv('/kaggle/working/submission.csv', index=False)"
   ]
  }
 ],
 "metadata": {
  "kaggle": {
   "accelerator": "none",
   "dataSources": [
    {
     "databundleVersionId": 7630642,
     "sourceId": 68790,
     "sourceType": "competition"
    }
   ],
   "dockerImageVersionId": 30646,
   "isGpuEnabled": false,
   "isInternetEnabled": true,
   "language": "python",
   "sourceType": "notebook"
  },
  "kernelspec": {
   "display_name": "Python 3",
   "language": "python",
   "name": "python3"
  },
  "language_info": {
   "codemirror_mode": {
    "name": "ipython",
    "version": 3
   },
   "file_extension": ".py",
   "mimetype": "text/x-python",
   "name": "python",
   "nbconvert_exporter": "python",
   "pygments_lexer": "ipython3",
   "version": "3.10.13"
  },
  "papermill": {
   "default_parameters": {},
   "duration": 113.815204,
   "end_time": "2024-02-13T02:36:15.571256",
   "environment_variables": {},
   "exception": null,
   "input_path": "__notebook__.ipynb",
   "output_path": "__notebook__.ipynb",
   "parameters": {},
   "start_time": "2024-02-13T02:34:21.756052",
   "version": "2.5.0"
  }
 },
 "nbformat": 4,
 "nbformat_minor": 5
}
